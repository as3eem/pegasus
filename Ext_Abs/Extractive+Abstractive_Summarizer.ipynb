{
 "cells": [
  {
   "cell_type": "code",
   "execution_count": 3,
   "metadata": {
    "colab": {
     "base_uri": "https://localhost:8080/"
    },
    "id": "q1kB_IUe6aQT",
    "outputId": "31c101c6-7823-48d0-d619-817a8d02290f"
   },
   "outputs": [],
   "source": [
    "# !pip install bert-extractive-summarizer\n",
    "# !pip install -q git+https://github.com/huggingface/transformers.git\n",
    "!pip install -q tensorflow-gpu==2.2\n",
    "\n",
    "import os\n",
    "os.environ[\"CUDA_VISIBLE_DEVICES\"]= \"1\"\n",
    "import nltk\n",
    "# nltk.download('stopwords')\n",
    "from nltk.corpus import stopwords\n",
    "from nltk.cluster.util import cosine_distance\n",
    "import numpy as np\n",
    "\n",
    "from pathlib import Path"
   ]
  },
  {
   "cell_type": "markdown",
   "metadata": {
    "id": "0shdBqkLB-2m"
   },
   "source": [
    "--------------------------------------------------"
   ]
  },
  {
   "cell_type": "markdown",
   "metadata": {
    "id": "8a-s3snYDpAV"
   },
   "source": [
    "DATA LOADER"
   ]
  },
  {
   "cell_type": "code",
   "execution_count": 4,
   "metadata": {
    "id": "9f3DaGukVlAj"
   },
   "outputs": [],
   "source": [
    "import pandas as pd\n",
    "check_path = \"/content/train.csv\"\n",
    "my_file = Path(check_path)\n",
    "flag = 0\n",
    "if flag and not my_file.is_file():\n",
    "    check_path = \"/content/AMICorpusXML/data/ami-summary/abstractive/ES2004a.abssumm.txt\"\n",
    "\n",
    "    my_file = Path(check_path)\n",
    "    if not my_file.is_file():\n",
    "        if not Path(\"/content/AMICorpusXML/data\").is_dir():\n",
    "            ! git clone https://github.com/gcunhase/AMICorpusXML\n",
    "        ! python /content/AMICorpusXML/main_obtain_meeting2summary_data.py --summary_type abstractive\n",
    "    else:\n",
    "        print(\"Data already prepared... Importing\\n\")\n",
    "\n",
    "    val = \"ES2003, ES2011, IS1008, TS3004, TS3006\".split(',')\n",
    "    train = \"\"\"ES2002, ES2005, ES2006, ES2007, ES2008, ES2009, ES2010, ES2012, ES2013, ES2015, \n",
    "                ES2016, IS1000, IS1001, IS1003, IS1004, IS1006, IS1007, TS3005, TS3008, TS3009, TS3010, \n",
    "                TS3011, TS3012\"\"\".split(\",\")\n",
    "    test = \"ES2004, ES2014, IS1009, TS3003, TS3007\".split(\",\")\n",
    "\n",
    "    story_directory = r'/content/AMICorpusXML/data/ami-transcripts-stories/abstractive'\n",
    "    sum_directory = r'/content/AMICorpusXML/data/ami-summary/abstractive'\n",
    "\n",
    "    story_val = []\n",
    "    for filename in os.listdir(story_directory):\n",
    "        if filename.endswith(\".story\"):\n",
    "            for each in val:\n",
    "                if each.strip() in str(filename):\n",
    "                    story_val.append(filename)\n",
    "\n",
    "    def data_read(f1):\n",
    "        with open(f1, 'r') as file:\n",
    "            data1 = file.read().replace('\\n', '')\n",
    "        return data1\n",
    "\n",
    "    val_data = []\n",
    "    val_summ = []\n",
    "    for each in story_val:\n",
    "        a = each.split('.')[0]\n",
    "        story_file = story_directory+'/'+each\n",
    "        summ_file = sum_directory+'/'+a+\".abssumm.txt\"\n",
    "        data = data_read(story_file)\n",
    "        val_data.append(data)\n",
    "        data = data_read(summ_file)\n",
    "        val_summ.append(data)\n",
    "else:\n",
    "    train = pd.read_csv(\"./content/train.csv\", sep='\\t')\n",
    "    train = train.drop(['Unnamed: 0'],axis=1)\n",
    "    test = pd.read_csv(\"./content/test.csv\", sep='\\t')\n",
    "    test = test.drop(['Unnamed: 0'],axis=1)\n",
    "    val = pd.read_csv(\"./content/val.csv\", sep='\\t')\n",
    "    val = val.drop(['Unnamed: 0'],axis=1)"
   ]
  },
  {
   "cell_type": "code",
   "execution_count": 5,
   "metadata": {
    "colab": {
     "base_uri": "https://localhost:8080/",
     "height": 206
    },
    "id": "peo1qPL7WDzi",
    "outputId": "6803a1b1-9e55-4594-e5e3-550710dc90dc"
   },
   "outputs": [
    {
     "data": {
      "text/html": [
       "<div>\n",
       "<style scoped>\n",
       "    .dataframe tbody tr th:only-of-type {\n",
       "        vertical-align: middle;\n",
       "    }\n",
       "\n",
       "    .dataframe tbody tr th {\n",
       "        vertical-align: top;\n",
       "    }\n",
       "\n",
       "    .dataframe thead th {\n",
       "        text-align: right;\n",
       "    }\n",
       "</style>\n",
       "<table border=\"1\" class=\"dataframe\">\n",
       "  <thead>\n",
       "    <tr style=\"text-align: right;\">\n",
       "      <th></th>\n",
       "      <th>inputs</th>\n",
       "      <th>targets</th>\n",
       "    </tr>\n",
       "  </thead>\n",
       "  <tbody>\n",
       "    <tr>\n",
       "      <th>0</th>\n",
       "      <td>'Kay. I'll go first. No Nathan's fine. It's ei...</td>\n",
       "      <td>The Industrial Designer presented an analysis ...</td>\n",
       "    </tr>\n",
       "    <tr>\n",
       "      <th>1</th>\n",
       "      <td>Um I'm Craig and I'm User Interface. Yeah. Wel...</td>\n",
       "      <td>The project manager introduced the upcoming pr...</td>\n",
       "    </tr>\n",
       "    <tr>\n",
       "      <th>2</th>\n",
       "      <td>How was lunch? Mm. Why? Mm-hmm. W we can use s...</td>\n",
       "      <td>The project manager stated the agenda and set ...</td>\n",
       "    </tr>\n",
       "    <tr>\n",
       "      <th>3</th>\n",
       "      <td>Uh we don't have any changes, do we? So no. It...</td>\n",
       "      <td>The UI and ID presented a prototype drawing of...</td>\n",
       "    </tr>\n",
       "    <tr>\n",
       "      <th>4</th>\n",
       "      <td>Hold that. Okay. Okay. Mm. Mm-hmm. Mm-hmm. Mm....</td>\n",
       "      <td>The meeting begins with the group trying to re...</td>\n",
       "    </tr>\n",
       "  </tbody>\n",
       "</table>\n",
       "</div>"
      ],
      "text/plain": [
       "                                              inputs  \\\n",
       "0  'Kay. I'll go first. No Nathan's fine. It's ei...   \n",
       "1  Um I'm Craig and I'm User Interface. Yeah. Wel...   \n",
       "2  How was lunch? Mm. Why? Mm-hmm. W we can use s...   \n",
       "3  Uh we don't have any changes, do we? So no. It...   \n",
       "4  Hold that. Okay. Okay. Mm. Mm-hmm. Mm-hmm. Mm....   \n",
       "\n",
       "                                             targets  \n",
       "0  The Industrial Designer presented an analysis ...  \n",
       "1  The project manager introduced the upcoming pr...  \n",
       "2  The project manager stated the agenda and set ...  \n",
       "3  The UI and ID presented a prototype drawing of...  \n",
       "4  The meeting begins with the group trying to re...  "
      ]
     },
     "execution_count": 5,
     "metadata": {},
     "output_type": "execute_result"
    }
   ],
   "source": [
    "train.head()"
   ]
  },
  {
   "cell_type": "markdown",
   "metadata": {
    "id": "nEAcZejLDnFs"
   },
   "source": [
    "----------------------"
   ]
  },
  {
   "cell_type": "markdown",
   "metadata": {
    "id": "CuQ8ZAwjETsA"
   },
   "source": [
    "## EXTRACTIVE SUMMARY GENERATOR"
   ]
  },
  {
   "cell_type": "markdown",
   "metadata": {
    "id": "QkkcauCrZX59"
   },
   "source": [
    "BERTSUM"
   ]
  },
  {
   "cell_type": "code",
   "execution_count": null,
   "metadata": {},
   "outputs": [],
   "source": []
  },
  {
   "cell_type": "code",
   "execution_count": null,
   "metadata": {},
   "outputs": [],
   "source": []
  },
  {
   "cell_type": "code",
   "execution_count": 6,
   "metadata": {
    "id": "vtUhV65bGZKz",
    "scrolled": true
   },
   "outputs": [],
   "source": [
    "from summarizer import Summarizer\n",
    "from tqdm import tqdm\n",
    "model = Summarizer()"
   ]
  },
  {
   "cell_type": "code",
   "execution_count": 7,
   "metadata": {
    "id": "km0K9T9fujTH"
   },
   "outputs": [],
   "source": [
    "# test = test[]"
   ]
  },
  {
   "cell_type": "code",
   "execution_count": 8,
   "metadata": {
    "colab": {
     "base_uri": "https://localhost:8080/"
    },
    "id": "UmfbAac0Fbb3",
    "outputId": "9ce80225-b7a9-4399-abe0-8fa7a13cc220"
   },
   "outputs": [
    {
     "name": "stderr",
     "output_type": "stream",
     "text": [
      "20it [00:49,  2.47s/it]\n"
     ]
    }
   ],
   "source": [
    "ext_summary = []\n",
    "# model.eval()\n",
    "for index, row in tqdm(test.iterrows(), ):\n",
    "    input = row['inputs']\n",
    "    target = row['targets']\n",
    "#     print(input)\n",
    "    result = model(input, max_length=70, num_sentences=2)\n",
    "    summ = \"\".join(result)\n",
    "    ext_summary.append(summ)\n",
    "\n",
    "test['ext_summary'] = ext_summary"
   ]
  },
  {
   "cell_type": "code",
   "execution_count": 9,
   "metadata": {
    "colab": {
     "base_uri": "https://localhost:8080/",
     "height": 293
    },
    "id": "NUlJy5mdZOnx",
    "outputId": "b57db842-4d42-4857-c7f5-f1097c313bc9"
   },
   "outputs": [
    {
     "data": {
      "text/html": [
       "<div>\n",
       "<style scoped>\n",
       "    .dataframe tbody tr th:only-of-type {\n",
       "        vertical-align: middle;\n",
       "    }\n",
       "\n",
       "    .dataframe tbody tr th {\n",
       "        vertical-align: top;\n",
       "    }\n",
       "\n",
       "    .dataframe thead th {\n",
       "        text-align: right;\n",
       "    }\n",
       "</style>\n",
       "<table border=\"1\" class=\"dataframe\">\n",
       "  <thead>\n",
       "    <tr style=\"text-align: right;\">\n",
       "      <th></th>\n",
       "      <th>inputs</th>\n",
       "      <th>targets</th>\n",
       "      <th>ext_summary</th>\n",
       "    </tr>\n",
       "  </thead>\n",
       "  <tbody>\n",
       "    <tr>\n",
       "      <th>0</th>\n",
       "      <td>Thanks. Yeah, that's probably a better one, to...</td>\n",
       "      <td>The Project Manager reviewed the minutes from ...</td>\n",
       "      <td>Yeah, that's probably a better one, to discuss...</td>\n",
       "    </tr>\n",
       "    <tr>\n",
       "      <th>1</th>\n",
       "      <td>Good afternoon. So Hello. No problem. Okay. Th...</td>\n",
       "      <td>In the detailed design meeting the team create...</td>\n",
       "      <td>In this meeting we will discuss our final desi...</td>\n",
       "    </tr>\n",
       "    <tr>\n",
       "      <th>2</th>\n",
       "      <td>Okay. Everybody found his place again? Yeah? T...</td>\n",
       "      <td>The project manager stated the agenda and the ...</td>\n",
       "      <td>Uh now we're going um into the functional desi...</td>\n",
       "    </tr>\n",
       "    <tr>\n",
       "      <th>3</th>\n",
       "      <td>Hi. Oh. Good morning. I'm Juergen Toffs. I'm t...</td>\n",
       "      <td>The participants introduced themselves and the...</td>\n",
       "      <td>Or You have to draw uh push hard on the pen or...</td>\n",
       "    </tr>\n",
       "    <tr>\n",
       "      <th>4</th>\n",
       "      <td>Morning. Yep. My name's Frank. Thank you. Hmm,...</td>\n",
       "      <td>The project manager introduced himself to the ...</td>\n",
       "      <td>Can't say I paid much attention to it, but Oh ...</td>\n",
       "    </tr>\n",
       "  </tbody>\n",
       "</table>\n",
       "</div>"
      ],
      "text/plain": [
       "                                              inputs  \\\n",
       "0  Thanks. Yeah, that's probably a better one, to...   \n",
       "1  Good afternoon. So Hello. No problem. Okay. Th...   \n",
       "2  Okay. Everybody found his place again? Yeah? T...   \n",
       "3  Hi. Oh. Good morning. I'm Juergen Toffs. I'm t...   \n",
       "4  Morning. Yep. My name's Frank. Thank you. Hmm,...   \n",
       "\n",
       "                                             targets  \\\n",
       "0  The Project Manager reviewed the minutes from ...   \n",
       "1  In the detailed design meeting the team create...   \n",
       "2  The project manager stated the agenda and the ...   \n",
       "3  The participants introduced themselves and the...   \n",
       "4  The project manager introduced himself to the ...   \n",
       "\n",
       "                                         ext_summary  \n",
       "0  Yeah, that's probably a better one, to discuss...  \n",
       "1  In this meeting we will discuss our final desi...  \n",
       "2  Uh now we're going um into the functional desi...  \n",
       "3  Or You have to draw uh push hard on the pen or...  \n",
       "4  Can't say I paid much attention to it, but Oh ...  "
      ]
     },
     "execution_count": 9,
     "metadata": {},
     "output_type": "execute_result"
    }
   ],
   "source": [
    "test.to_csv('test_ext.csv', sep='\\t')\n",
    "test.head()"
   ]
  },
  {
   "cell_type": "markdown",
   "metadata": {
    "id": "I0fZ2fVKEf-c"
   },
   "source": [
    "## EXTRACTIVE TO ABSTRACTIVE"
   ]
  },
  {
   "cell_type": "markdown",
   "metadata": {
    "id": "bSnDiccnvKJw"
   },
   "source": [
    "GPT2 Decoder"
   ]
  },
  {
   "cell_type": "code",
   "execution_count": 10,
   "metadata": {
    "colab": {
     "base_uri": "https://localhost:8080/"
    },
    "id": "l5wvRbcsvv6u",
    "outputId": "159c0aba-1c7c-4126-8676-d9f90c43a401",
    "scrolled": true
   },
   "outputs": [
    {
     "name": "stderr",
     "output_type": "stream",
     "text": [
      "All model checkpoint layers were used when initializing TFGPT2LMHeadModel.\n",
      "\n",
      "All the layers of TFGPT2LMHeadModel were initialized from the model checkpoint at gpt2.\n",
      "If your task is similar to the task the model of the checkpoint was trained on, you can already use TFGPT2LMHeadModel for predictions without further training.\n"
     ]
    }
   ],
   "source": [
    "import tensorflow as tf\n",
    "from transformers import TFGPT2LMHeadModel, GPT2Tokenizer\n",
    "\n",
    "tokenizer = GPT2Tokenizer.from_pretrained(\"gpt2\")\n",
    "\n",
    "# add the EOS token as PAD token to avoid warnings\n",
    "modelgpt2 = TFGPT2LMHeadModel.from_pretrained(\"gpt2\", pad_token_id=tokenizer.eos_token_id)"
   ]
  },
  {
   "cell_type": "code",
   "execution_count": 13,
   "metadata": {
    "colab": {
     "base_uri": "https://localhost:8080/"
    },
    "id": "0KNdTmgfv1h1",
    "outputId": "9e94471e-a345-4933-c834-e379095252f4"
   },
   "outputs": [
    {
     "name": "stderr",
     "output_type": "stream",
     "text": [
      "20it [03:57, 11.86s/it]\n"
     ]
    }
   ],
   "source": [
    "abs_summary = []\n",
    "\n",
    "for index, row in tqdm(test.iterrows()):\n",
    "    input = row['ext_summary']\n",
    "#     print(input)\n",
    "    input_ids = tokenizer.encode(input, return_tensors='tf')\n",
    "    summ = modelgpt2.generate(input_ids, max_length=200)\n",
    "    summ_decoded = tokenizer.decode(summ[0], skip_special_tokens=True)\n",
    "    abs_summary.append(summ_decoded)\n",
    "\n",
    "test['abs_summary'] = abs_summary"
   ]
  },
  {
   "cell_type": "markdown",
   "metadata": {
    "id": "9ZCyNV5Zco1v"
   },
   "source": [
    "BEAM"
   ]
  },
  {
   "cell_type": "code",
   "execution_count": 16,
   "metadata": {
    "colab": {
     "base_uri": "https://localhost:8080/"
    },
    "id": "FXte8_qewVTP",
    "outputId": "da68a9b3-e9d5-4253-e794-5bb892e5be95",
    "scrolled": true
   },
   "outputs": [
    {
     "name": "stderr",
     "output_type": "stream",
     "text": [
      "20it [03:58, 11.93s/it]\n"
     ]
    }
   ],
   "source": [
    "abs_summary = []\n",
    "\n",
    "for index, row in tqdm(test.iterrows()):\n",
    "    input = row['ext_summary']\n",
    "#     print(input)\n",
    "    input_ids = tokenizer.encode(input, return_tensors='tf')\n",
    "    beam_output = modelgpt2.generate(\n",
    "        input_ids, \n",
    "        max_length=200, \n",
    "        num_beams=5, \n",
    "        early_stopping=True\n",
    "    )\n",
    "\n",
    "    summ_decoded =tokenizer.decode(beam_output[0], skip_special_tokens=True)\n",
    "    abs_summary.append(summ_decoded)\n",
    "\n",
    "test['beam_abs_summary'] = abs_summary"
   ]
  },
  {
   "cell_type": "code",
   "execution_count": 17,
   "metadata": {
    "colab": {
     "base_uri": "https://localhost:8080/"
    },
    "id": "BLz4BTW8wV02",
    "outputId": "8dd4f82a-60ad-4088-cd16-568b9acf51a9"
   },
   "outputs": [
    {
     "data": {
      "text/html": [
       "<div>\n",
       "<style scoped>\n",
       "    .dataframe tbody tr th:only-of-type {\n",
       "        vertical-align: middle;\n",
       "    }\n",
       "\n",
       "    .dataframe tbody tr th {\n",
       "        vertical-align: top;\n",
       "    }\n",
       "\n",
       "    .dataframe thead th {\n",
       "        text-align: right;\n",
       "    }\n",
       "</style>\n",
       "<table border=\"1\" class=\"dataframe\">\n",
       "  <thead>\n",
       "    <tr style=\"text-align: right;\">\n",
       "      <th></th>\n",
       "      <th>inputs</th>\n",
       "      <th>targets</th>\n",
       "      <th>ext_summary</th>\n",
       "      <th>abs_summary</th>\n",
       "      <th>beam_abs_summary</th>\n",
       "    </tr>\n",
       "  </thead>\n",
       "  <tbody>\n",
       "    <tr>\n",
       "      <th>0</th>\n",
       "      <td>Thanks. Yeah, that's probably a better one, to...</td>\n",
       "      <td>The Project Manager reviewed the minutes from ...</td>\n",
       "      <td>Yeah, that's probably a better one, to discuss...</td>\n",
       "      <td>Yeah, that's probably a better one, to discuss...</td>\n",
       "      <td>Yeah, that's probably a better one, to discuss...</td>\n",
       "    </tr>\n",
       "    <tr>\n",
       "      <th>1</th>\n",
       "      <td>Good afternoon. So Hello. No problem. Okay. Th...</td>\n",
       "      <td>In the detailed design meeting the team create...</td>\n",
       "      <td>In this meeting we will discuss our final desi...</td>\n",
       "      <td>In this meeting we will discuss our final desi...</td>\n",
       "      <td>In this meeting we will discuss our final desi...</td>\n",
       "    </tr>\n",
       "    <tr>\n",
       "      <th>2</th>\n",
       "      <td>Okay. Everybody found his place again? Yeah? T...</td>\n",
       "      <td>The project manager stated the agenda and the ...</td>\n",
       "      <td>Uh now we're going um into the functional desi...</td>\n",
       "      <td>Uh now we're going um into the functional desi...</td>\n",
       "      <td>Uh now we're going um into the functional desi...</td>\n",
       "    </tr>\n",
       "    <tr>\n",
       "      <th>3</th>\n",
       "      <td>Hi. Oh. Good morning. I'm Juergen Toffs. I'm t...</td>\n",
       "      <td>The participants introduced themselves and the...</td>\n",
       "      <td>Or You have to draw uh push hard on the pen or...</td>\n",
       "      <td>Or You have to draw uh push hard on the pen or...</td>\n",
       "      <td>Or You have to draw uh push hard on the pen or...</td>\n",
       "    </tr>\n",
       "    <tr>\n",
       "      <th>4</th>\n",
       "      <td>Morning. Yep. My name's Frank. Thank you. Hmm,...</td>\n",
       "      <td>The project manager introduced himself to the ...</td>\n",
       "      <td>Can't say I paid much attention to it, but Oh ...</td>\n",
       "      <td>Can't say I paid much attention to it, but Oh ...</td>\n",
       "      <td>Can't say I paid much attention to it, but Oh ...</td>\n",
       "    </tr>\n",
       "  </tbody>\n",
       "</table>\n",
       "</div>"
      ],
      "text/plain": [
       "                                              inputs  \\\n",
       "0  Thanks. Yeah, that's probably a better one, to...   \n",
       "1  Good afternoon. So Hello. No problem. Okay. Th...   \n",
       "2  Okay. Everybody found his place again? Yeah? T...   \n",
       "3  Hi. Oh. Good morning. I'm Juergen Toffs. I'm t...   \n",
       "4  Morning. Yep. My name's Frank. Thank you. Hmm,...   \n",
       "\n",
       "                                             targets  \\\n",
       "0  The Project Manager reviewed the minutes from ...   \n",
       "1  In the detailed design meeting the team create...   \n",
       "2  The project manager stated the agenda and the ...   \n",
       "3  The participants introduced themselves and the...   \n",
       "4  The project manager introduced himself to the ...   \n",
       "\n",
       "                                         ext_summary  \\\n",
       "0  Yeah, that's probably a better one, to discuss...   \n",
       "1  In this meeting we will discuss our final desi...   \n",
       "2  Uh now we're going um into the functional desi...   \n",
       "3  Or You have to draw uh push hard on the pen or...   \n",
       "4  Can't say I paid much attention to it, but Oh ...   \n",
       "\n",
       "                                         abs_summary  \\\n",
       "0  Yeah, that's probably a better one, to discuss...   \n",
       "1  In this meeting we will discuss our final desi...   \n",
       "2  Uh now we're going um into the functional desi...   \n",
       "3  Or You have to draw uh push hard on the pen or...   \n",
       "4  Can't say I paid much attention to it, but Oh ...   \n",
       "\n",
       "                                    beam_abs_summary  \n",
       "0  Yeah, that's probably a better one, to discuss...  \n",
       "1  In this meeting we will discuss our final desi...  \n",
       "2  Uh now we're going um into the functional desi...  \n",
       "3  Or You have to draw uh push hard on the pen or...  \n",
       "4  Can't say I paid much attention to it, but Oh ...  "
      ]
     },
     "execution_count": 17,
     "metadata": {},
     "output_type": "execute_result"
    }
   ],
   "source": [
    "test.head()"
   ]
  },
  {
   "cell_type": "markdown",
   "metadata": {
    "id": "LYUMkO5F-J-X"
   },
   "source": [
    "TOP P"
   ]
  },
  {
   "cell_type": "code",
   "execution_count": 18,
   "metadata": {
    "colab": {
     "base_uri": "https://localhost:8080/"
    },
    "id": "er34eKqh-JbS",
    "outputId": "951525fb-bd98-49ce-b1cd-a3b0e9274bf7",
    "scrolled": true
   },
   "outputs": [
    {
     "name": "stderr",
     "output_type": "stream",
     "text": [
      "20it [04:29, 13.46s/it]\n"
     ]
    }
   ],
   "source": [
    "abs_summary = []\n",
    "\n",
    "for index, row in tqdm(test.iterrows()):\n",
    "    input = row['ext_summary']\n",
    "#     print(input)\n",
    "    input_ids = tokenizer.encode(input, return_tensors='tf')\n",
    "\n",
    "    # set seed to reproduce results. Feel free to change the seed though to get different results\n",
    "    tf.random.set_seed(0)\n",
    "    # deactivate top_k sampling and sample only from 92% most likely words\n",
    "    sample_output = modelgpt2.generate(\n",
    "        input_ids, \n",
    "        do_sample=True, \n",
    "        max_length=200, \n",
    "        top_p=0.92, \n",
    "        top_k=0\n",
    "    )\n",
    "    summ_decoded = tokenizer.decode(sample_output[0], skip_special_tokens=True)\n",
    "    abs_summary.append(summ_decoded)\n",
    "test['top_P_abs_summary'] = abs_summary"
   ]
  },
  {
   "cell_type": "code",
   "execution_count": 19,
   "metadata": {
    "colab": {
     "base_uri": "https://localhost:8080/",
     "height": 244
    },
    "id": "7jBSQTDW-vHF",
    "outputId": "d139a874-e00b-4c1e-a1c9-ded20581d1db"
   },
   "outputs": [
    {
     "data": {
      "text/html": [
       "<div>\n",
       "<style scoped>\n",
       "    .dataframe tbody tr th:only-of-type {\n",
       "        vertical-align: middle;\n",
       "    }\n",
       "\n",
       "    .dataframe tbody tr th {\n",
       "        vertical-align: top;\n",
       "    }\n",
       "\n",
       "    .dataframe thead th {\n",
       "        text-align: right;\n",
       "    }\n",
       "</style>\n",
       "<table border=\"1\" class=\"dataframe\">\n",
       "  <thead>\n",
       "    <tr style=\"text-align: right;\">\n",
       "      <th></th>\n",
       "      <th>inputs</th>\n",
       "      <th>targets</th>\n",
       "      <th>ext_summary</th>\n",
       "      <th>abs_summary</th>\n",
       "      <th>beam_abs_summary</th>\n",
       "      <th>top_P_abs_summary</th>\n",
       "    </tr>\n",
       "  </thead>\n",
       "  <tbody>\n",
       "    <tr>\n",
       "      <th>0</th>\n",
       "      <td>Thanks. Yeah, that's probably a better one, to...</td>\n",
       "      <td>The Project Manager reviewed the minutes from ...</td>\n",
       "      <td>Yeah, that's probably a better one, to discuss...</td>\n",
       "      <td>Yeah, that's probably a better one, to discuss...</td>\n",
       "      <td>Yeah, that's probably a better one, to discuss...</td>\n",
       "      <td>Yeah, that's probably a better one, to discuss...</td>\n",
       "    </tr>\n",
       "    <tr>\n",
       "      <th>1</th>\n",
       "      <td>Good afternoon. So Hello. No problem. Okay. Th...</td>\n",
       "      <td>In the detailed design meeting the team create...</td>\n",
       "      <td>In this meeting we will discuss our final desi...</td>\n",
       "      <td>In this meeting we will discuss our final desi...</td>\n",
       "      <td>In this meeting we will discuss our final desi...</td>\n",
       "      <td>In this meeting we will discuss our final desi...</td>\n",
       "    </tr>\n",
       "    <tr>\n",
       "      <th>2</th>\n",
       "      <td>Okay. Everybody found his place again? Yeah? T...</td>\n",
       "      <td>The project manager stated the agenda and the ...</td>\n",
       "      <td>Uh now we're going um into the functional desi...</td>\n",
       "      <td>Uh now we're going um into the functional desi...</td>\n",
       "      <td>Uh now we're going um into the functional desi...</td>\n",
       "      <td>Uh now we're going um into the functional desi...</td>\n",
       "    </tr>\n",
       "    <tr>\n",
       "      <th>3</th>\n",
       "      <td>Hi. Oh. Good morning. I'm Juergen Toffs. I'm t...</td>\n",
       "      <td>The participants introduced themselves and the...</td>\n",
       "      <td>Or You have to draw uh push hard on the pen or...</td>\n",
       "      <td>Or You have to draw uh push hard on the pen or...</td>\n",
       "      <td>Or You have to draw uh push hard on the pen or...</td>\n",
       "      <td>Or You have to draw uh push hard on the pen or...</td>\n",
       "    </tr>\n",
       "    <tr>\n",
       "      <th>4</th>\n",
       "      <td>Morning. Yep. My name's Frank. Thank you. Hmm,...</td>\n",
       "      <td>The project manager introduced himself to the ...</td>\n",
       "      <td>Can't say I paid much attention to it, but Oh ...</td>\n",
       "      <td>Can't say I paid much attention to it, but Oh ...</td>\n",
       "      <td>Can't say I paid much attention to it, but Oh ...</td>\n",
       "      <td>Can't say I paid much attention to it, but Oh ...</td>\n",
       "    </tr>\n",
       "  </tbody>\n",
       "</table>\n",
       "</div>"
      ],
      "text/plain": [
       "                                              inputs  \\\n",
       "0  Thanks. Yeah, that's probably a better one, to...   \n",
       "1  Good afternoon. So Hello. No problem. Okay. Th...   \n",
       "2  Okay. Everybody found his place again? Yeah? T...   \n",
       "3  Hi. Oh. Good morning. I'm Juergen Toffs. I'm t...   \n",
       "4  Morning. Yep. My name's Frank. Thank you. Hmm,...   \n",
       "\n",
       "                                             targets  \\\n",
       "0  The Project Manager reviewed the minutes from ...   \n",
       "1  In the detailed design meeting the team create...   \n",
       "2  The project manager stated the agenda and the ...   \n",
       "3  The participants introduced themselves and the...   \n",
       "4  The project manager introduced himself to the ...   \n",
       "\n",
       "                                         ext_summary  \\\n",
       "0  Yeah, that's probably a better one, to discuss...   \n",
       "1  In this meeting we will discuss our final desi...   \n",
       "2  Uh now we're going um into the functional desi...   \n",
       "3  Or You have to draw uh push hard on the pen or...   \n",
       "4  Can't say I paid much attention to it, but Oh ...   \n",
       "\n",
       "                                         abs_summary  \\\n",
       "0  Yeah, that's probably a better one, to discuss...   \n",
       "1  In this meeting we will discuss our final desi...   \n",
       "2  Uh now we're going um into the functional desi...   \n",
       "3  Or You have to draw uh push hard on the pen or...   \n",
       "4  Can't say I paid much attention to it, but Oh ...   \n",
       "\n",
       "                                    beam_abs_summary  \\\n",
       "0  Yeah, that's probably a better one, to discuss...   \n",
       "1  In this meeting we will discuss our final desi...   \n",
       "2  Uh now we're going um into the functional desi...   \n",
       "3  Or You have to draw uh push hard on the pen or...   \n",
       "4  Can't say I paid much attention to it, but Oh ...   \n",
       "\n",
       "                                   top_P_abs_summary  \n",
       "0  Yeah, that's probably a better one, to discuss...  \n",
       "1  In this meeting we will discuss our final desi...  \n",
       "2  Uh now we're going um into the functional desi...  \n",
       "3  Or You have to draw uh push hard on the pen or...  \n",
       "4  Can't say I paid much attention to it, but Oh ...  "
      ]
     },
     "execution_count": 19,
     "metadata": {},
     "output_type": "execute_result"
    }
   ],
   "source": [
    "test.to_csv('test_ext.csv', sep='\\t')\n",
    "test.head()"
   ]
  },
  {
   "cell_type": "markdown",
   "metadata": {
    "id": "5HvmxeiF-IGW"
   },
   "source": [
    "ROUGE"
   ]
  },
  {
   "cell_type": "code",
   "execution_count": 20,
   "metadata": {
    "colab": {
     "base_uri": "https://localhost:8080/"
    },
    "id": "brxNWrrg6v6G",
    "outputId": "1e48e8ff-8d52-4c2f-ccac-c2cc88a970c5"
   },
   "outputs": [],
   "source": [
    "from rouge_score import rouge_scorer"
   ]
  },
  {
   "cell_type": "code",
   "execution_count": null,
   "metadata": {
    "id": "2wddIBwt8ofR"
   },
   "outputs": [],
   "source": []
  },
  {
   "cell_type": "code",
   "execution_count": 21,
   "metadata": {
    "id": "ggsTtYgH7Znq"
   },
   "outputs": [],
   "source": [
    "def rogue_sc(b, a):\n",
    "    scorer = rouge_scorer.RougeScorer(['rouge1', 'rouge2'], use_stemmer=True)\n",
    "    scores = scorer.score(b,a)\n",
    "    # print(scores)\n",
    "    return scores"
   ]
  },
  {
   "cell_type": "code",
   "execution_count": 22,
   "metadata": {
    "colab": {
     "base_uri": "https://localhost:8080/",
     "height": 710
    },
    "id": "pZ3KI-Mh9Dri",
    "outputId": "5b4c1ea4-8443-400e-cc8b-be8b6eb7d8e7"
   },
   "outputs": [
    {
     "name": "stdout",
     "output_type": "stream",
     "text": [
      "------ top_P_abs_summary-------\n",
      "Average Rouge1 Score:  20.78922596767385\n",
      "Average Rouge2 Score:  1.687723939962558\n",
      "------ Extractive_summary-------\n",
      "Average Rouge1 Score:  13.610906174527997\n",
      "Average Rouge2 Score:  1.2735726147453659\n",
      "------ Beams_summary-------\n",
      "Average Rouge1 Score:  13.247162362541905\n",
      "Average Rouge2 Score:  1.198764949141089\n",
      "------ Beams_summary-------\n",
      "Average Rouge1 Score:  12.994571080754296\n",
      "Average Rouge2 Score:  1.2201822951746712\n"
     ]
    }
   ],
   "source": [
    "import numpy as np\n",
    "\n",
    "rouge1 = []\n",
    "rouge2 = []\n",
    "# word_capt = []\n",
    "for index, row in test.iterrows():\n",
    "    rouge1.append(rogue_sc(row['targets'], row['top_P_abs_summary'])['rouge1'][1])\n",
    "    rouge2.append(rogue_sc(row['targets'], row['top_P_abs_summary'])['rouge2'][1])\n",
    "    # word_capt.append(rogue_sc(row['targets'], row['Summary annotated'])['rouge1'][1])\n",
    "print(\"------ top_P_abs_summary-------\")\n",
    "print(\"Average Rouge1 Score: \", 100*np.average(np.array(rouge1)))\n",
    "print(\"Average Rouge2 Score: \", 100*np.average(np.array(rouge2)))\n",
    "\n",
    "for index, row in test.iterrows():\n",
    "    rouge1.append(rogue_sc(row['targets'], row['ext_summary'])['rouge1'][1])\n",
    "    rouge2.append(rogue_sc(row['targets'], row['ext_summary'])['rouge2'][1])\n",
    "    # word_capt.append(rogue_sc(row['targets'], row['Summary annotated'])['rouge1'][1])\n",
    "print(\"------ Extractive_summary-------\")\n",
    "print(\"Average Rouge1 Score: \", 100*np.average(np.array(rouge1)))\n",
    "print(\"Average Rouge2 Score: \", 100*np.average(np.array(rouge2)))\n",
    "\n",
    "\n",
    "for index, row in test.iterrows():\n",
    "    rouge1.append(rogue_sc(row['targets'], row['beam_abs_summary'])['rouge1'][1])\n",
    "    rouge2.append(rogue_sc(row['targets'], row['beam_abs_summary'])['rouge2'][1])\n",
    "    # word_capt.append(rogue_sc(row['targets'], row['Summary annotated'])['rouge1'][1])\n",
    "print(\"------ Beams_summary-------\")\n",
    "print(\"Average Rouge1 Score: \", 100*np.average(np.array(rouge1)))\n",
    "print(\"Average Rouge2 Score: \", 100*np.average(np.array(rouge2)))\n",
    "\n",
    "\n",
    "for index, row in test.iterrows():\n",
    "    rouge1.append(rogue_sc(row['targets'], row['abs_summary'])['rouge1'][1])\n",
    "    rouge2.append(rogue_sc(row['targets'], row['abs_summary'])['rouge2'][1])\n",
    "    # word_capt.append(rogue_sc(row['targets'], row['Summary annotated'])['rouge1'][1])\n",
    "print(\"------ Beams_summary-------\")\n",
    "print(\"Average Rouge1 Score: \", 100*np.average(np.array(rouge1)))\n",
    "print(\"Average Rouge2 Score: \", 100*np.average(np.array(rouge2)))"
   ]
  },
  {
   "cell_type": "code",
   "execution_count": 24,
   "metadata": {
    "id": "La2trJ5x_I2B"
   },
   "outputs": [],
   "source": [
    "test.to_csv('test_ext.csv', sep='\\t')"
   ]
  },
  {
   "cell_type": "code",
   "execution_count": null,
   "metadata": {},
   "outputs": [],
   "source": []
  },
  {
   "cell_type": "code",
   "execution_count": null,
   "metadata": {},
   "outputs": [],
   "source": []
  }
 ],
 "metadata": {
  "colab": {
   "collapsed_sections": [],
   "name": "Extractive+Abstractive Summarizer.ipynb",
   "provenance": []
  },
  "kernelspec": {
   "display_name": "Python 3",
   "language": "python",
   "name": "python3"
  },
  "language_info": {
   "codemirror_mode": {
    "name": "ipython",
    "version": 3
   },
   "file_extension": ".py",
   "mimetype": "text/x-python",
   "name": "python",
   "nbconvert_exporter": "python",
   "pygments_lexer": "ipython3",
   "version": "3.7.4"
  }
 },
 "nbformat": 4,
 "nbformat_minor": 1
}
