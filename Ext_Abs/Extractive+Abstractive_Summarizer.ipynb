{
  "nbformat": 4,
  "nbformat_minor": 0,
  "metadata": {
    "colab": {
      "name": "Extractive+Abstractive Summarizer.ipynb",
      "provenance": [],
      "collapsed_sections": []
    },
    "kernelspec": {
      "name": "python3",
      "display_name": "Python 3"
    }
  },
  "cells": [
    {
      "cell_type": "code",
      "metadata": {
        "id": "q1kB_IUe6aQT",
        "colab": {
          "base_uri": "https://localhost:8080/"
        },
        "outputId": "31c101c6-7823-48d0-d619-817a8d02290f"
      },
      "source": [
        "!pip install bert-extractive-summarizer\n",
        "!pip install -q git+https://github.com/huggingface/transformers.git\n",
        "!pip install -q tensorflow==2.1\n",
        "\n",
        "import nltk\n",
        "nltk.download('stopwords')\n",
        "from nltk.corpus import stopwords\n",
        "from nltk.cluster.util import cosine_distance\n",
        "import numpy as np\n",
        "\n",
        "from pathlib import Path"
      ],
      "execution_count": 125,
      "outputs": [
        {
          "output_type": "stream",
          "text": [
            "Requirement already satisfied: bert-extractive-summarizer in /usr/local/lib/python3.6/dist-packages (0.5.1)\n",
            "Requirement already satisfied: spacy in /usr/local/lib/python3.6/dist-packages (from bert-extractive-summarizer) (2.2.4)\n",
            "Requirement already satisfied: scikit-learn in /usr/local/lib/python3.6/dist-packages (from bert-extractive-summarizer) (0.22.2.post1)\n",
            "Requirement already satisfied: transformers in /usr/local/lib/python3.6/dist-packages (from bert-extractive-summarizer) (4.0.0rc1)\n",
            "Requirement already satisfied: tqdm<5.0.0,>=4.38.0 in /usr/local/lib/python3.6/dist-packages (from spacy->bert-extractive-summarizer) (4.41.1)\n",
            "Requirement already satisfied: preshed<3.1.0,>=3.0.2 in /usr/local/lib/python3.6/dist-packages (from spacy->bert-extractive-summarizer) (3.0.4)\n",
            "Requirement already satisfied: catalogue<1.1.0,>=0.0.7 in /usr/local/lib/python3.6/dist-packages (from spacy->bert-extractive-summarizer) (1.0.0)\n",
            "Requirement already satisfied: requests<3.0.0,>=2.13.0 in /usr/local/lib/python3.6/dist-packages (from spacy->bert-extractive-summarizer) (2.23.0)\n",
            "Requirement already satisfied: numpy>=1.15.0 in /usr/local/lib/python3.6/dist-packages (from spacy->bert-extractive-summarizer) (1.18.5)\n",
            "Requirement already satisfied: thinc==7.4.0 in /usr/local/lib/python3.6/dist-packages (from spacy->bert-extractive-summarizer) (7.4.0)\n",
            "Requirement already satisfied: cymem<2.1.0,>=2.0.2 in /usr/local/lib/python3.6/dist-packages (from spacy->bert-extractive-summarizer) (2.0.4)\n",
            "Requirement already satisfied: setuptools in /usr/local/lib/python3.6/dist-packages (from spacy->bert-extractive-summarizer) (50.3.2)\n",
            "Requirement already satisfied: murmurhash<1.1.0,>=0.28.0 in /usr/local/lib/python3.6/dist-packages (from spacy->bert-extractive-summarizer) (1.0.4)\n",
            "Requirement already satisfied: blis<0.5.0,>=0.4.0 in /usr/local/lib/python3.6/dist-packages (from spacy->bert-extractive-summarizer) (0.4.1)\n",
            "Requirement already satisfied: wasabi<1.1.0,>=0.4.0 in /usr/local/lib/python3.6/dist-packages (from spacy->bert-extractive-summarizer) (0.8.0)\n",
            "Requirement already satisfied: plac<1.2.0,>=0.9.6 in /usr/local/lib/python3.6/dist-packages (from spacy->bert-extractive-summarizer) (1.1.3)\n",
            "Requirement already satisfied: srsly<1.1.0,>=1.0.2 in /usr/local/lib/python3.6/dist-packages (from spacy->bert-extractive-summarizer) (1.0.4)\n",
            "Requirement already satisfied: joblib>=0.11 in /usr/local/lib/python3.6/dist-packages (from scikit-learn->bert-extractive-summarizer) (0.17.0)\n",
            "Requirement already satisfied: scipy>=0.17.0 in /usr/local/lib/python3.6/dist-packages (from scikit-learn->bert-extractive-summarizer) (1.4.1)\n",
            "Requirement already satisfied: packaging in /usr/local/lib/python3.6/dist-packages (from transformers->bert-extractive-summarizer) (20.4)\n",
            "Requirement already satisfied: regex!=2019.12.17 in /usr/local/lib/python3.6/dist-packages (from transformers->bert-extractive-summarizer) (2019.12.20)\n",
            "Requirement already satisfied: dataclasses; python_version < \"3.7\" in /usr/local/lib/python3.6/dist-packages (from transformers->bert-extractive-summarizer) (0.8)\n",
            "Requirement already satisfied: filelock in /usr/local/lib/python3.6/dist-packages (from transformers->bert-extractive-summarizer) (3.0.12)\n",
            "Requirement already satisfied: sacremoses in /usr/local/lib/python3.6/dist-packages (from transformers->bert-extractive-summarizer) (0.0.43)\n",
            "Requirement already satisfied: tokenizers==0.9.4 in /usr/local/lib/python3.6/dist-packages (from transformers->bert-extractive-summarizer) (0.9.4)\n",
            "Requirement already satisfied: importlib-metadata>=0.20; python_version < \"3.8\" in /usr/local/lib/python3.6/dist-packages (from catalogue<1.1.0,>=0.0.7->spacy->bert-extractive-summarizer) (2.0.0)\n",
            "Requirement already satisfied: idna<3,>=2.5 in /usr/local/lib/python3.6/dist-packages (from requests<3.0.0,>=2.13.0->spacy->bert-extractive-summarizer) (2.10)\n",
            "Requirement already satisfied: chardet<4,>=3.0.2 in /usr/local/lib/python3.6/dist-packages (from requests<3.0.0,>=2.13.0->spacy->bert-extractive-summarizer) (3.0.4)\n",
            "Requirement already satisfied: certifi>=2017.4.17 in /usr/local/lib/python3.6/dist-packages (from requests<3.0.0,>=2.13.0->spacy->bert-extractive-summarizer) (2020.11.8)\n",
            "Requirement already satisfied: urllib3!=1.25.0,!=1.25.1,<1.26,>=1.21.1 in /usr/local/lib/python3.6/dist-packages (from requests<3.0.0,>=2.13.0->spacy->bert-extractive-summarizer) (1.24.3)\n",
            "Requirement already satisfied: six in /usr/local/lib/python3.6/dist-packages (from packaging->transformers->bert-extractive-summarizer) (1.15.0)\n",
            "Requirement already satisfied: pyparsing>=2.0.2 in /usr/local/lib/python3.6/dist-packages (from packaging->transformers->bert-extractive-summarizer) (2.4.7)\n",
            "Requirement already satisfied: click in /usr/local/lib/python3.6/dist-packages (from sacremoses->transformers->bert-extractive-summarizer) (7.1.2)\n",
            "Requirement already satisfied: zipp>=0.5 in /usr/local/lib/python3.6/dist-packages (from importlib-metadata>=0.20; python_version < \"3.8\"->catalogue<1.1.0,>=0.0.7->spacy->bert-extractive-summarizer) (3.4.0)\n",
            "  Installing build dependencies ... \u001b[?25l\u001b[?25hdone\n",
            "  Getting requirements to build wheel ... \u001b[?25l\u001b[?25hdone\n",
            "    Preparing wheel metadata ... \u001b[?25l\u001b[?25hdone\n",
            "  Building wheel for transformers (PEP 517) ... \u001b[?25l\u001b[?25hdone\n",
            "[nltk_data] Downloading package stopwords to /root/nltk_data...\n",
            "[nltk_data]   Package stopwords is already up-to-date!\n"
          ],
          "name": "stdout"
        }
      ]
    },
    {
      "cell_type": "markdown",
      "metadata": {
        "id": "0shdBqkLB-2m"
      },
      "source": [
        "--------------------------------------------------"
      ]
    },
    {
      "cell_type": "markdown",
      "metadata": {
        "id": "8a-s3snYDpAV"
      },
      "source": [
        "DATA LOADER"
      ]
    },
    {
      "cell_type": "code",
      "metadata": {
        "id": "9f3DaGukVlAj"
      },
      "source": [
        "check_path = \"/content/train.csv\"\n",
        "my_file = Path(check_path)\n",
        "flag = 0\n",
        "if flag and not my_file.is_file():\n",
        "    check_path = \"/content/AMICorpusXML/data/ami-summary/abstractive/ES2004a.abssumm.txt\"\n",
        "\n",
        "    my_file = Path(check_path)\n",
        "    if not my_file.is_file():\n",
        "        if not Path(\"/content/AMICorpusXML/data\").is_dir():\n",
        "            ! git clone https://github.com/gcunhase/AMICorpusXML\n",
        "        ! python /content/AMICorpusXML/main_obtain_meeting2summary_data.py --summary_type abstractive\n",
        "    else:\n",
        "        print(\"Data already prepared... Importing\\n\")\n",
        "\n",
        "    val = \"ES2003, ES2011, IS1008, TS3004, TS3006\".split(',')\n",
        "    train = \"\"\"ES2002, ES2005, ES2006, ES2007, ES2008, ES2009, ES2010, ES2012, ES2013, ES2015, \n",
        "                ES2016, IS1000, IS1001, IS1003, IS1004, IS1006, IS1007, TS3005, TS3008, TS3009, TS3010, \n",
        "                TS3011, TS3012\"\"\".split(\",\")\n",
        "    test = \"ES2004, ES2014, IS1009, TS3003, TS3007\".split(\",\")\n",
        "\n",
        "    story_directory = r'/content/AMICorpusXML/data/ami-transcripts-stories/abstractive'\n",
        "    sum_directory = r'/content/AMICorpusXML/data/ami-summary/abstractive'\n",
        "\n",
        "    story_val = []\n",
        "    for filename in os.listdir(story_directory):\n",
        "        if filename.endswith(\".story\"):\n",
        "            for each in val:\n",
        "                if each.strip() in str(filename):\n",
        "                    story_val.append(filename)\n",
        "\n",
        "    def data_read(f1):\n",
        "        with open(f1, 'r') as file:\n",
        "            data1 = file.read().replace('\\n', '')\n",
        "        return data1\n",
        "\n",
        "    val_data = []\n",
        "    val_summ = []\n",
        "    for each in story_val:\n",
        "        a = each.split('.')[0]\n",
        "        story_file = story_directory+'/'+each\n",
        "        summ_file = sum_directory+'/'+a+\".abssumm.txt\"\n",
        "        data = data_read(story_file)\n",
        "        val_data.append(data)\n",
        "        data = data_read(summ_file)\n",
        "        val_summ.append(data)\n",
        "else:\n",
        "    train = pd.read_csv(\"./content/train.csv\", sep='\\t')\n",
        "    train = train.drop(['Unnamed: 0'],axis=1)\n",
        "    test = pd.read_csv(\"./content/test.csv\", sep='\\t')\n",
        "    test = test.drop(['Unnamed: 0'],axis=1)\n",
        "    val = pd.read_csv(\"./content/val.csv\", sep='\\t')\n",
        "    val = val.drop(['Unnamed: 0'],axis=1)"
      ],
      "execution_count": 127,
      "outputs": []
    },
    {
      "cell_type": "code",
      "metadata": {
        "colab": {
          "base_uri": "https://localhost:8080/",
          "height": 206
        },
        "id": "peo1qPL7WDzi",
        "outputId": "6803a1b1-9e55-4594-e5e3-550710dc90dc"
      },
      "source": [
        "train.head()"
      ],
      "execution_count": 128,
      "outputs": [
        {
          "output_type": "execute_result",
          "data": {
            "text/html": [
              "<div>\n",
              "<style scoped>\n",
              "    .dataframe tbody tr th:only-of-type {\n",
              "        vertical-align: middle;\n",
              "    }\n",
              "\n",
              "    .dataframe tbody tr th {\n",
              "        vertical-align: top;\n",
              "    }\n",
              "\n",
              "    .dataframe thead th {\n",
              "        text-align: right;\n",
              "    }\n",
              "</style>\n",
              "<table border=\"1\" class=\"dataframe\">\n",
              "  <thead>\n",
              "    <tr style=\"text-align: right;\">\n",
              "      <th></th>\n",
              "      <th>inputs</th>\n",
              "      <th>targets</th>\n",
              "    </tr>\n",
              "  </thead>\n",
              "  <tbody>\n",
              "    <tr>\n",
              "      <th>0</th>\n",
              "      <td>'Kay. I'll go first. No Nathan's fine. It's ei...</td>\n",
              "      <td>The Industrial Designer presented an analysis ...</td>\n",
              "    </tr>\n",
              "    <tr>\n",
              "      <th>1</th>\n",
              "      <td>Um I'm Craig and I'm User Interface. Yeah. Wel...</td>\n",
              "      <td>The project manager introduced the upcoming pr...</td>\n",
              "    </tr>\n",
              "    <tr>\n",
              "      <th>2</th>\n",
              "      <td>How was lunch? Mm. Why? Mm-hmm. W we can use s...</td>\n",
              "      <td>The project manager stated the agenda and set ...</td>\n",
              "    </tr>\n",
              "    <tr>\n",
              "      <th>3</th>\n",
              "      <td>Uh we don't have any changes, do we? So no. It...</td>\n",
              "      <td>The UI and ID presented a prototype drawing of...</td>\n",
              "    </tr>\n",
              "    <tr>\n",
              "      <th>4</th>\n",
              "      <td>Hold that. Okay. Okay. Mm. Mm-hmm. Mm-hmm. Mm....</td>\n",
              "      <td>The meeting begins with the group trying to re...</td>\n",
              "    </tr>\n",
              "  </tbody>\n",
              "</table>\n",
              "</div>"
            ],
            "text/plain": [
              "                                              inputs                                            targets\n",
              "0  'Kay. I'll go first. No Nathan's fine. It's ei...  The Industrial Designer presented an analysis ...\n",
              "1  Um I'm Craig and I'm User Interface. Yeah. Wel...  The project manager introduced the upcoming pr...\n",
              "2  How was lunch? Mm. Why? Mm-hmm. W we can use s...  The project manager stated the agenda and set ...\n",
              "3  Uh we don't have any changes, do we? So no. It...  The UI and ID presented a prototype drawing of...\n",
              "4  Hold that. Okay. Okay. Mm. Mm-hmm. Mm-hmm. Mm....  The meeting begins with the group trying to re..."
            ]
          },
          "metadata": {
            "tags": []
          },
          "execution_count": 128
        }
      ]
    },
    {
      "cell_type": "markdown",
      "metadata": {
        "id": "nEAcZejLDnFs"
      },
      "source": [
        "----------------------"
      ]
    },
    {
      "cell_type": "markdown",
      "metadata": {
        "id": "CuQ8ZAwjETsA"
      },
      "source": [
        "## EXTRACTIVE SUMMARY GENERATOR"
      ]
    },
    {
      "cell_type": "markdown",
      "metadata": {
        "id": "QkkcauCrZX59"
      },
      "source": [
        "BERTSUM"
      ]
    },
    {
      "cell_type": "code",
      "metadata": {
        "id": "vtUhV65bGZKz"
      },
      "source": [
        "from summarizer import Summarizer\n",
        "from tqdm import tqdm\n",
        "model = Summarizer()"
      ],
      "execution_count": 129,
      "outputs": []
    },
    {
      "cell_type": "code",
      "metadata": {
        "id": "km0K9T9fujTH"
      },
      "source": [
        "test = test[:4]"
      ],
      "execution_count": 130,
      "outputs": []
    },
    {
      "cell_type": "code",
      "metadata": {
        "colab": {
          "base_uri": "https://localhost:8080/"
        },
        "id": "UmfbAac0Fbb3",
        "outputId": "9ce80225-b7a9-4399-abe0-8fa7a13cc220"
      },
      "source": [
        "ext_summary = []\n",
        "\n",
        "for index, row in tqdm(test.iterrows()):\n",
        "    input = row['inputs']\n",
        "    target = row['targets']\n",
        "    print(input)\n",
        "    result = model(input, max_length=70, num_sentences=2)\n",
        "    summ = \"\".join(result)\n",
        "    ext_summary.append(summ)\n",
        "\n",
        "test['ext_summary'] = ext_summary"
      ],
      "execution_count": 131,
      "outputs": [
        {
          "output_type": "stream",
          "text": [
            "\n",
            "\n",
            "0it [00:00, ?it/s]\u001b[A\u001b[A"
          ],
          "name": "stderr"
        },
        {
          "output_type": "stream",
          "text": [
            "Thanks. Yeah, that's probably a better one, to discuss it straight away. Um I have a lot of the information there. It might not be very clear. Unless you want to plug it back in to yours. I think the scroll wheel um Yeah, and if we're going for sleek and sexy, I think a scroll wheel is maybe a bit kinda bulky? I I've got um pictures well I've seen pictures with it kind of sticking off the side of it, and they don't really look great. Yeah, a simple pushbuttons. Hmm. But But the way that I interpret that um it doesn't seem to send out a signal to the telly, it just it's like a parrot just rep reply replying to your message. So I don't think it would effect our circuit board. Yeah. And I don't think you could really perform any of the remote functions with it. 'Cause the example that they've given there is good morning coffee machine, good morning Jo. It might be useful to say like where are you remote. Here I am, Jo. But I think that's maybe as far as that one could go? Yeah, just as a fun way to find it. And it says that I think it said the cost of that isn't too much. Um I think it would be helpful to find it, but I don't think it'd um Yeah, I think so. Mm-hmm. I think I'll just just check what it said. Actually I don't think it really says anything about the cost, but it says that it's already in the coffee machines, so like it's already kind of Um. Oh, that was quick. Um okay, so very brief presentation, um. From looking at the remotes that are out there at the minute, none of them are particularly um sleek and sexy. Um I haven't actually got the examples of the scroll button there, um but there's some curved cases that you can see, uh a range of sizes uh. All of them have a lot of buttons there um they seem to just have the rubber buttons. Does that move it? It just seems to be skipping on without us doing anything. Ah it's alright. Um. There wasn't much more to say about that, just rambling. Um some of the uh remotes that I looked at, one of the models da did actually have voice recognition where you could um where it was connected to the remote control functions. And uh it was quite uh a swish model, where it can control uh four devices, T_V_, cable, satellite, video, D_V_D_, audio. Um so that's a bit of competition there. So I mean maybe it's better not to try and compete with that sort of thing and just to market it as a completely different um like different viewpoint as a kind of finding your lost control rather than trying to compete with the functions. Um the scroll buttons, as you've already mentioned, um there's examples of those, but they don't look as sleek as other models. And there's no real advantage and because it impacts on other on the materials and the price it's not great. Um Yeah. Th there was a specialist type of remote that we could think about, um. There was children's remote, where um they just had a very limited range of buttons and they were b uh bright and colourful and um you you could program them so that they could only look at certain channels. Um but I don't know if that's really in our field? But that's something that's out there. Hmm. Hmm. Okay. Right well that's something that we can be aware of. Um. I think because there's already um very good voice recognition technology out there, and because ours might not cover the same functions that the leading brands do, it might be a good idea to market it as a um finder function. Yeah. Oh yeah. Different languages might not be compatible. Hmm. Yeah, 'cause I think you program um this one yourself, like to say like whatever you want to your question. Hmm. Maybe unless something else comes up. Um yeah I think um I think we've decided that it's gonna increase the cost and give no real kinda extra benefit and it's gonna decrease from the sleekness of it. Hmm um and just to be aware that there are kind of specialist functions and specialist remotes but we probably don't want to focus on those like such as the children's remote. Yeah. Um there was a mention just as kind of a warning about button design. Um just to avoid ambiguity. So it gave the example of say your volume buttons for up and down, they might both have a V_ on for volume, Um let's think how they did this. I'm just gonna check so I do this right. Um. What did they say? Um I think the thing was that if you decide to do this, to have triangular buttons, um somebody might look at this one and say oh well this triangular button is pointing up, and that's the first thing that they see Actually that can't be right, can it? Oh well, no, they might see yeah, they might see this pointing down and think right that's gonna turn the volume down, whereas the actual button's pointing up, so the function is to turn the button up. So, be careful what you put on the buttons and be careful of the shape that you make them, because they might be kind of two um contradicting kind of shapes. Yeah. Um and I think that's all I had to say for that. Um so what was the decision on the um design of the volume button? Oh okay. I think if you start making the buttons fruit shaped, it might make it more complicated to use. Yeah. Maybe just one button, say the standby button is quite kinda separate from all the other functions. Maybe that could be a little apple. And then that wouldn't get in the way of like kinda one to nine, and it wouldn't confuse the numbers. Hmm. S But I suppose as long as it's quite a subtle design, um even if the design kind of changes, It seems like you're gonna have rubber cases, as well as buttons. And that you can make them curved or double-curved and that would be the kind of sleek and sexy look. Oh right, that fits, doesn't it? Right. And that would fit in with what we want, wouldn't it, for the spongy feel, to have everything rubber. Hmm. Yeah and then you could have Oh but you still would have to have the logo on every new case, but you could have like pink cases for girls and red ones and things like that. Hmm. But we are supposed to use the um company colour scheme, aren't we? We haven't really seen that yet It might and we might be able to do both but it might clash with certain things. Hmm. Well if it's for young people, um like the phone generation, that sort of thing'd probably go down well, and the market research has been on that side of things, hasn't it? Okay, so if we just went for one colour of a rubber case Did we decide on the rubber case? The spongy feel, or did we think that that might go as a trend? Uh we haven't really talked about uh the curvature of the case. There's flat, there's single-curved and there's double-curved. I'm not exactly sure what these things look like. Well it says that I'm not exactly sure. Um I'll show you the remotes that I've got. See how uh Let's just get that bigger. See how uh the one Oh I'm not plugged in, am I? That doesn't help. Shall I just turn it round for time? Hmm. Um it's not very clear up there, but you can see some of them have got kind of bulges, like the second one and the end one uh where there's a curve there. I'm not exactl I don't know if a double curve is maybe it comes up slightly, or? But um it is a kinda sleeker look if you've got curves in there. Definitely a single, maybe a double. Shall we go for single curve, just to compromise? Yeah. And the rubber push buttons, rubber case. Um and we don't really know much about the colour scheme or logo yet do we, but possibly a sticker. Yeah. Yeah and and the voice recognition, we can use that can't we, just to find it. Without affecting the circuit board. Yeah that sounds like it wouldn't do too much harm in a couple of years. Uh what sort of shape do we want? Yeah, so it's not too wacky. Um I think an apple would be a good recognisable shape. If you start getting into kinda aubergines and things, it gets a bit weird. Vote? Shall we vote on it? Anyone got any suggestions? Right. Okay. Ah. Well it could be red. Yeah 'cause we wanna incorporate a bit of colour if we can, once we find out um Yeah. Yeah that seems pretty straight forward. 'Cause most of them will just be kind of mainly circular or like very plain. Uh just to keep the shape of the buttons simple. Ah just the uh shape of the buttons. Yeah.Yeah. Okay. Mm-hmm. Mm-hmm. 'Kay. Mm-hmm. Mm-hmm. Mm-hmm. Mm-hmm. So are we going for the w are we going for the simple one, are we? Okay. Yeah. Mm. I suppose we need we need to find out what circuit board that requires, maybe before we m make a decision. Oh yeah, I suppose so, yeah. Yeah. Yeah. Yeah. Yeah. Mm-hmm. Mm-hmm. Yeah. Just Just just for the call and find thing. 'Cause it's s it's separate isn't it, it's not part of the Mm-hmm. Yeah. Mm-hmm. Mm-hmm. Mm-hmm. Mm-hmm. Yeah and ours is quite a cheap device, so I don't know how much we'll be able to put into it. Yeah. Mm-hmm. Mm-hmm. Okay. I've I've got some things to say about possible design things from trend watching. Cool. Right, um I've been looking at some trends in in sort of basically fashion on top of doing the um research into the remote control market the the one that's the one I talked about last time, that we'd sort of asked people about remote controls and what what was good about them, what was bad, what they used. And we've also been looking at sort of fa sort of fashions and what people are wanting out of consumer goods at the moment. So we've had people in Paris and Milan watching the uh fashion trends. So So just to summarise the most important things which came out of the remote control market investigation. The most important thing was that the thing sort of look and felt fancy rather than just functional. And second, there should be some technological innovation. And then third and l less important than the other two, there should be an ease of use as well. And apparently, the fashion trends are that people want sort of clothes and shoes and things with a fruit and vegetables theme. Um but um the feel of the material should be spongy, which is contrary to last year, apparently. I presume it must have been not not spongy last year. So we need to emphasise the fancy design with on on our remote control above all else. And then also try and add in technological informat innovation which could be our sort of find the thing with a hand clap. And then we need to ma sort of make it easy to use that's as a third priority, so perhaps um fewer fewer buttons and functions as we've as we've discussed. And then maybe find a way to incorporate these trends so that we sort of capture people's imaginations. So maybe we could make the buttons shaped like fruit and veg, or the the buttons could be spongy, uh somehow. Maybe we could make them out of rubber rather than sort of hard plastic. And then sort of even wackier than that, we could maybe have a fruit or vegetable shaped remote, say in the shape of a banana or something like that. Right, so that'll be it. Maybe a banana or courgette or something. How how far we actually want to go along and sort of follow the trends, do we think the trends are particularly important for this type of gadget, or or you know, do they not matter that much? Yeah. Maybe yeah. Mm-hmm. Yeah yeah. Mm-hmm. Yeah, I'm not Yeah. I'm not I'm not sure what what what the sort of timescale we're thinking of selling the product over is. I don't know. Yeah, yeah. Mm-hmm. Mm-hmm. Mm-hmm. Yeah. Yeah. Yeah. Mm-hmm. Mm-hmm. Mm-hmm. Yeah. Okay. Yeah. Mm-hmm. Mm-hmm. Mm-hmm. That's possibly it. Mm-hmm. Mm-hmm. Yeah. Mm-hmm. Mm-hmm. Mm-hmm. Mm-hmm. Mm-hmm. Yeah. Yeah, I mean it's people say that it's the look, they want the fancy looking thing but I'm Yeah. I'm not convinced on whether having changeable covers would be something that people would buy into. I think with the mobiles, it's the, you know it's a communication device, people see you with it all about and i if it Yeah. I think Mm-hmm. Well, it was different last year. The trend was different last year apparently. It was not not spongy feel. But I don't know whether the trend will change. I don't know whether it's one of those things that like sort of having all fruit shaped keys, that that probably would go out of fashion very quickly, whereas just the fact that it was a rubber case is probably less less of something that y you're gonna end up hating in a year, you know. Yeah. Mm. Okay. When you say d when you say double-curved, what what exactly does that mean? Okay. No you're not connected to me anymore. That should come up. Mm. Mm-hmm. Yeah. Right. That's what I was trying to work out. Shall we Yeah. Okay. Yeah I think that think that's a good idea. Rubber Rubber buttons and case. Yeah. Yeah yeah. Okay. And then are we going for sort of one button shaped like a fruit. Or veg. Don't know, maybe just Yeah. That's ru rubber buttons, yeah. Yeah. Reasonably spongy I guess, yeah. Yeah okay. Yeah. Apple? Yeah. Yeah. Apple apple a a qu Quite a big one, as well. A big apple. Uh Could be a red apple, yeah. Either, don't mind. Mm-hmm. Mm-hmm. Okay. Looks like it.I think we all have a presentation again, so if we go through those and then um. Shall I go first again? I see this a little more smoothly than the last one. Okay right, let's get started. Um basically the uh for the Um I'll back actually. For the components design, um next step is basically the the way the remote's gonna work is still the same idea as before. We still have the user interface which is all the buttons we're gonna incorporate. Then there is a chip and still the sender. So um yes including the power s supply as well. Um I'll go on to my findings in each of these areas. Uh first in the power supply, we have the option of just the standard battery, um. There's a dynamo. Any of you think of kind of like the the old torches which you wind up um. There's a kinetic option, which if any of you've seen those new watches which you kind of you power up by waving around, um it just requires a small amount of movement which would mean the batteries wouldn't have to be replaced. Um that's one option, but I think that was gonna cost a little more. And then there's solar cells. Um as a final option. For the buttons, we have um an integrated push button, which is Oh just to say all all these are um supplied by Real Reaction. So I guess for the ease of for quickness and ease we should take them from at least like one of these options. Um so for the buttons there's an integrated push button, which I guess is just the same as the standard ones. This says it's uh similar to uh the button on the mouse for a normal for like uh like modern computer. Um there's a scroll wheel which is you know the new mouse has just got like the centre section which you can scroll up and down, which may be for the volume. You could do do that. Um one issue for the buttons is, depending on which material we use, if we use rubber buttons then it requires a rubber case, so we have to take that into consideration. Um moving on to the printed s Um that's on the next I th I think the there wasn't too much difference in the cost, that that related to the actual buttons, but it does affect the printed circuit board. Um which is the next section. Basically for the circuit board which is the middle, it's just see it down there the chips like the like the workings of the actual um of the remote. The firm supplies a simple, a regular and an advanced um circuit board. And there's different prices according to each. So if we've got the scroll wheel for one of the buttons, that would require a slightly more advanced circuit board than if we just had a standard um push button. Um one final thing we came up with was some information on the speech recognition. There's a small unit available through the company um which obviously would be an extra cost, but it wouldn't affect the size of the remote too much. Um and I guess that would require a more advanced circuit board, so there is an extra price in that sense. There is th sorry an extra cost in that sense. Um going to my personal preferences, um I thought possibly for power we could use kinetic um which is the idea of the watches um that you move you move the remote around to power it up. And this would avoid batteries running out, having to replace batteries and such like. Um for the buttons, I thought we'd probably get away with just having the standard um push buttons rather than the scroll wheel. Um and for the circuit board, again depends on which features we want in the actual in the remote. So if we wanted the scroll wheel and wanted the voice recognition, um then we'd have to get a a more costly circuit board. And that's it. Um i it kind of depends um if we're gonna have the speech recognition, we'd have to probably get an advanced one. I'm guessing. Uh but I don't know, so that is something I'll have to look into. Um that's a that's a decision for all of us. Um. Yeah yeah. We decide. Yeah. Um. Maybe w Um. Yes. Is there Um. We could do, yeah. Um yeah we should. As I say it only specified that we need a more advanced circuit board for the scroll wheel, it didn't The voice recognition came as a separate piece of information. Um. Yeah if if you down um. It's just this bit at the bottom which I've highlighted, but the scroll wheel requires a mini m minimally a regular chip, which is in the higher price range. Also the display's for something else which we decided against. Um but that bit And note that the push button just requires a simple chip, so that would keep the price down. 'Kay. So maybe just a simple push button, and that would cut costs on the Did everyone get this on the speech recognition? The um it was basically what we said before, the idea that you record in a set message, and then it picks up that message um and replies to you. So it is basically the concept we discussed before. Um but then we don't know for sure whether it would require a more complicated circuit board. I'm guessing it would, but got like the definite information. Maybe we should go on what we're certain of rather than Um if it's just the push button then it just needs the simple circuit board. So maybe that would be something separate, yeah. Okay, so we'd have a simple circuit board and that would be an extra that would be in addition to it. Oh that makes sense. Okay. Yeah that makes sense, so we'd stick with the simple circuit board and then think of the speech recognition as an extra an extra possibility. Okay. Um. Um yeah I I thought so just for just for ease of not having to replace the batteries. Um. It's um I think it works on the basis they have some kind of ball bearings inside. It's um it's some on watches which you you kind of you shake to power it up. Somehow the mechanism inside powers up through movement. So you'd you'd move the remote around a little bit and then that powers it up to use it. Uh yeah I think did we decide it didn't affect the circuit board, it just affected It was just Oh no th that's what that's what I thought, but maybe maybe it doesn't. Um I think I might have got that wrong. It's it's just an addition thing it's um yeah. 'Kay. 'Kay shall I pass on to you now? I assume it would cost extra, but Maybe we maybe we'll find out how much that does cost and have to decide slightly later. If you right click and then go onto a previous slide. Okay, right. Yeah, yeah. On the price, yeah. 'Kay. I guess I guess we're going for the biggest market, maybe not, but Was it was it specified that we went for the biggest? So maybe the children's remote should be like a a next step, but maybe I dunno for ours, maybe we should Yeah. So you also said for going for the international market um that some some maybe older people might not like the speech recognition. S s so um Yeah, yeah. It w it would make it quite complicated, where um ours at least keeps it fairly simple and then the Yeah, yeah. Yeah. Yeah. Yes yes. So maybe we could have like Yeah. Yeah I I know what you mean. So maybe we could have volume written on the side and then up and down on the on the buttons themselves. Possible. Mm. Yeah yeah. Yeah. Yeah we got it down to not too many. Um Are we are we gonna go through the design of all the buttons at the moment, or are we gonna t Yeah, maybe we should see yours first. 'Kay. Well I dunno I I guess maybe fruit and vegetables may be popular at the moment, but as we know how fickle the fashion markets are, maybe I mean it just seems realistic that the remote control market isn't the kind of thing which takes in those kinds of fashion trends. to something which is maybe more universal. We c maybe can imply a fruit shape possibly. Maybe the spongy feel is something we could think about, um. Maybe still with a rubber design we could Um. Oh yeah yeah one of the things were if you had rubber buttons then you had to have a rubber case. Um oh no no no sorry it's if you use the uh rubber double curved case then you must use rubber buttons. That's the way round. If you have the rubber case then you have to have the rubber buttons to go with it. Which makes sense. Um. Yeah. I suppose we maybe are limited in the fact that we still have to put the logo on the actual would or not. Yeah. Yes yes. Maybe we could think of the the cases like changing with the fashions like the Nokia phones where you could take the casing off the outside. But whether that would be too much to incorporate in production, whether that would just increase the costs, make it more complicated. Yeah the a the actual the sort of the look from the outside, so where the buttons would stay the same, and the general function of the remote would stay the same, but you could change the the way it looked. Yeah, that's true. Yeah. So it is a possibility, um. Oh okay yes that is Mm-hmm. Mm-hmm. Yeah. And whether we'd have a big enough market to have this kind of like secondary market of selling the cases might be something to consider. Yeah. Yeah I suppose, where you you keep the remote hidden under the sofa most of the time. Yeah, less likely to So then th th that would Yeah. it seems to make sense that we we'd just maybe stick with the standard rubber case, and then have the standard rubber buttons as well. Um. Um. Mayb Maybe curves give it like the slightly more aesthetic feel? But the double curve wouldn't require us to perform miracles with the Plasticine. Mm-hmm. Yeah yeah. So shall we go through quickly and just work out what we've decide on, if we have to kind of 'Kay, so shall we quickly We'll go for single curve, yeah. Single curve. So did we did we decide on the kinetic power supply? The one you move around? Okay. Um Oh we ca Yeah yeah, we'll still have the Are we gonna go for the simple circuit board just to keep the cost down? I th I think we can by by not having anything too complicated. Um. Um. And see we could always decide against it if something comes up that's just something to that we seemed to leave out. Yeah, it was just 'Kay. We will go for the a a a apples apples. Okay. And then we're gonna are you gonna work on keeping the button design quite simple? Just like the Just working out what we're gonna do for the next time. Um. Yeah. 'Kay. And j yeah, just keeping the sort of the labelling them labelling of them fairly simple as well. Fairly sort of self explanatory. Okay. Is that the end? Okay.Okay. Right. Conceptual design meeting. Right. Okay, so Right well um from the last meeting I was trying to send you the minutes, but uh it didn't work out too well, so maybe in sort of um quick summary of the last uh meeting, I can quickly give you what we what we had. Uh right, so Wishing I hadn't closed the damn Right so we had the fact that we're gonna have the the logo uh the company logo in its uh colour scheme incorporated onto the the device the remote device. We had uh made our decisions about uh made our decisions about uh the device itself, that it was gonna be simple to make it uh enable us to complete the project in time. We're gonna have uh effectively two pages, a front page which had the uh features that the uh the customers most wanted, and then the uh the backup features on the second page so that it could uh meet the technical requirements. And the customers wouldn't have to look at them too often, only as and when required. So. So basically what decisions uh have we uh made? Uh have there been any uh changes? Right. Three presentation, yeah. So Yeah, fine. Okay. Mm-hmm. What would be the cost do do we know? Mm-hmm. Mm-hmm. with the printed circuit boards you were going for the Mm-hmm. But are we going f R right. So are we able to make that decision now in a sense that this is the point at which we're discussing that issue, so would it not be best to rather than I mean one way is to do each of the presentations and then make decisions going back to the various presentations as they were. The other way would be to do the presentation and then make the decision at that point in time. 'Cause at that point then you've got the details up there, so if we wanted to know for instance that the scroll wheel required the regular and what required advance. Then if we were able to see that down then we could make the decision at that point in time and then that would be the end of that issue. Does that make sense? Mm-hmm. No the scroll wheel required the regular, so the Hmm. Okay. The display requires an advanced chip the display requires an advanced chip which in turn is more expense. Okay. Down. Right. Okay. So. So we're going for p Okay. So is um Simple push button. Mm-hmm. So if we go for the simple push button, so effectively we're going for the simple printed circuit board are we? Or are we going for the regular? Mm-mm. But is there any other I mean okay, that's true for the for for that element, but we have to take all el elements into consideration. And so if there is one element that requires the more expensive one, or say the regular one, or the more advanced, then that would have to be the same for all of them. S Right. Mm-hmm. No. Mm-mm. Okay. Simple circuit board. Simple push button. Okay. W w kinetic. You were you were wanting to go for the kinetic power supply. Mm-hmm. And how does it get uh charged up? Okay. Okay. So the speech recognition was Are we going for speech recognition? No? 'Cause that required the advanced I had speech recognition requires advanced req require Oh. So okay. Speech recognition you reckon then is s simple. And so we would want it in as an extra because it doesn't appear to cost too much. Would that be In fact, it wouldn't really cost anymore, would it? And then have to change all change everything at the last minute. Okay. S Sorry? Yeah, I've found that try and get it back. So you were saying the scroll buttons Mm-hmm. Well we're to go for the international market rather than a local market but that that wouldn't necessarily preclude The one thing that you can often do with products is you can uh make small modifications. So you have your basic model which you would sell at whatever, and then you could have additional features in you know like a You'd have model one, model two and model three, and therefore you can sub-divide your market up. But that's really where your field is. Anyway you could add on for an extra package, but on this basic one I'm reckoning that we're going for the basic model to be discussed here and that uh you would have for future reference the possibility of adding in extra features at extra cost to take care of specialist market segments. Is that So so what are we deciding to do here? Right. Mm-hmm. Uh the fi Yeah, the finder function rather than as a speech function to find your remote. Okay. Hmm. So you'd have a finder feature rather than a voice recognition feature. And you were talking Mm. And you were talking about scroll buttons? Okay. b Alright, so we're just gonna have the the rubber buttons, was that right? Okay. So not to be focused on. Good in in Flip it round in ninety degree a hundred and eighty degrees and have it up and down. An upside-down V_. So that would show that volume was going up, whereas the one underneath would see the volume going down. Right. Mm-hmm. Mm-hmm. Yeah. You could have volume up and volume Volume up, down and Like that. And 'cause the idea was to have limited um it was to have sizable amount of information on it. Limited number of buttons. 'Cause it was sixteen buttons, wasn't it that were Okay. You know yourself. Well you were just talking about you've got to be careful how you shape your buttons, 'cause you're can mis-direct people. And I would've thought the functionality 'cause the people get cheesed off by things by having to read instructions et cetera, so. ... Okay. Now? Yeah. Stand-by button. No th that that incorporates the trend whilst at the same time not confusing people, if you're looking for functionality. But what are they gonna be next Yeah. What are they gonna be next year. But but th but okay but you you can incorporate the tr If y if you change all the buttons then you've got the problem that this year's fruit and veg, next year's uh I was gonna say animals or elephants or w whatever. That means you're constantly changing your production schedule, and you've gotta make different moulds and everything else, so that's not a good idea I would I would suggest. Well Ah d d But if Mm-hmm. Well. Yep. Was that in the sort of fashion sense that this Or was the spongy feel was that uh sort of fashion? It was, wasn't it? So the Mm-hmm. Rubber buttons require rubber case. Uh so, yeah. The m the main problem is how f how frequently do the fashions change? 'Cause in essence in the production you want things to stay you want to basically mint them out 'cause if you've got fashion changes and that you're incorporating, then it means that your stock is um is last year's stock and therefore you're selling it or having to sell it at a discounted rate which you wouldn't want to do. Whereas if you kept the product the same but you could have a difference from year to year, uh it seems to me that you could incorporate a fashion statement if you like, rather than changing the whole kit and caboodle. You're just changing one aspect like like the standby button or something like that, and especially 'cause then you could make it something that Well, you might be limited in space, that yes. Well you two are obviously gonna find that out fairly quickly when you move over to your kit modelling stage as to uh how much pl how much how much how pliable is Plasticine. Hmm. So you're talking there about uh changing changing the casing. Yeah you you could do a colour change, so therefore you would yeah yeah I mean that's effectively what they did with the with the mobile phones, was to have some in blue, some in red, some in rather than all in black or, you know, which four do you want, as long as it's black? But uh so Yes oh that's true uh that might no Well not necessarily, because you could have your company uh We're we're meant to be finishing up. You could have your company badge and logo. I mean a lot of um computers for instance like like on the one you've got there, it actually has a sort of um stick on badge so what you would al all you would really need, whether it, you know, whether the casing be w any colour, could be any colour, but that badge would then have to stick out on top of it so that uh in a sense, with a with a logo like that, because it's on a white background, the only colour that it might not stick out so well on would be a white casing. 'Cause you you know you're sort of you're badging it. And in fact a lot of companies get somebody else to make them and literally just badge them themselves with their own uh badge over the top. And in fact the way they've got that there even if you had that on a white, which is the predominant colour of the uh the Windows badge, you'd still be able to see it clearly from you know a white casing uh product. So. It's uh in in the house, isn't it, I suppose. So don't change case. Change case colour. And we're sort of saying no to that. Yeah. Sounds reasonable. If you're going for fashion trends like that they'll need t you'd have to have interchangeable cases so that you could or 'cause otherwise someone's gonna have to buy a complete new remote rather than just a case. Okay. One one thing to cons one thing to consider is that in some ways you want um by having a fairly standard case it means they can all fit together on top of each other therefore for storage purposes in shops and the like and it makes it easier that you can if you can store them up on top of each other. Whereas if you do um fancy things with it, you then gotta put it in a ca a a packaging box that that does that. And the cost of packaging could be quite important vis-a-vis the total cost of the product. So but No. Mm yep. Oh right. S so do you wanna go for curves, more curves? We're meant to be f we're meant to be finishing this meeting in about a minute or so. Okay, curved or double curved? So it's single curved. Yep. Yes. Yep. So we've got spongy feel buttons as well, have we? As well as or w or was that So it's rubber buttons, so it's not really spongy feel buttons, it's just rubber buttons. With a rubber case right? And the standby button is gonna be different. Okay so what what shape are we making the standby button? A apple. Oh oh Sorry? A red apple? Is it? Sorry what was that last thing again there? Right much option on that. I thought you were going for a single curve and Alright. Right, so shape of buttons simple. Okay. So that's that, I guess. We should now go away and get these things sorted out. I guess you two are on plasticine duty or whatever. Okay, so um. Okay.@highlightThe Project Manager reviewed the minutes from the last meeting.@highlightThe Industrial Designer discussed options for each of the internal components.@highlightHe showed that the size of the chip was dependent on the type and number of additional features used.@highlightThe group discussed incorporating speech recognition and other functions to be able to decide on chip size.@highlightThey decided that using speech recognition for the locator function only would allow them to use a simple chip.@highlightThe User Interface Designer presented several existing products.@highlightShe presented a specialized children's remote; the group decided to focus on a basic remote that would appeal to a wide market.@highlightShe expressed that buttons are often ambiguously shaped and that their remote must have an easy-to-use interface.@highlightThe Marketing Expert presented trends in the remote control market and the fruit and vegetable and spongy material trends in fashion.@highlightThe group discussed ways to incorporate these trends.@highlightThey decided to make the standby button shaped like an apple, to use a rubber case and buttons, and to use a single-curved shape.@highlightThe Project Manager instructed the User Interface Designer and the Industrial Designer to construct the prototype.\n"
          ],
          "name": "stdout"
        },
        {
          "output_type": "stream",
          "text": [
            "\n",
            "\n",
            "1it [00:30, 30.46s/it]\u001b[A\u001b[A"
          ],
          "name": "stderr"
        },
        {
          "output_type": "stream",
          "text": [
            "Good afternoon. So Hello. No problem. Okay. That's possible on uh this time of day. Starts at three o'clock. Uh Uh, let me see. Our fourth and last meeting. There he is. Yes. Okay this our last meeting. In this meeting we will discuss our final design. And we will do some evaluation about the, not only the product, but also the project. And then we're going to close the project today as well. So after this you will be uh free to go and uh spend all your money. And this uh design, detailed design meeting uh we will discuss uh the look-and-feel of the design, the usability interface design, and we will do the product evaluation. Um, in order to do that we have this agenda. We'll have the prototype presentation first. Then we will set up some evaluation cri um criteria. Then we will look at the finance. Uh we will have to see if everything we wanna do is also possible within our budget. Because everything costs money, and the more functions you wanna have the more money it will cost. So we have to see if it fits within the twelve and a half Euro per remote. But we will see that later. Then we will do the project uh evaluation, and the closing after that. We've got forty minutes. So we will be finished at half past three. But first um we will do the this is prototype presentation. So, if some yeah if somebody wants step forward. Okay. Okay. Uh but um I thought in a few meetings earlier we uh uh tried to keep it uh simple. Uh just a few buttons and large buttons. But uh I think these are altogether quite a quite a few buttons. So I'm wondering if we if we neely really need all of those buttons. That's right. Yeah. Yeah. Mm. Long time. Yeah. If you put Yeah. Okay. Yeah. Uh teletext and subtitles are yeah necessary. Okay. Yep. Okay. So we had somebody about th interfa Something about the design of the buttons there? Just n normal plain buttons. Yeah. 'Kay. No. No. Yeah. Okay. Yep. Okay. That's nice. Then because we only have thirty minutes left, I will move on to the finance part, which is pretty exciting, to see if it's all possible what we wanna do. And I can tell you that we're going to have a pretty hard time producing this for twelve and a half Euros. If we see I don't know if I've filled in correctly, so just correct me if you see uh something wrong. I counted two batteries. But maybe we can also use one. I don't know if it's possible. It's rechargeable. That's right. Okay. That's two Euros off. We need the advanced chip. So there's not much to uh to save there. Here we have the single curves. Uh we can see that the difference between uncurved and the single curved is one Euro. Um, I don't know, but I think the single curved is good for design, and also for the display to have a prominent place on the remote control. I think we have to keep that. Then we have the case material supplements. It's plastic. It's the cheapest one we need. So that's uh not much to save either. But then the biggest costs are the buttons. So maybe we really should try to discard some buttons to uh keep our costs low. Because you have to we will have to get the twelve and a half Euros at the end. Um, so if we Let's fir first count the buttons we have now. Because I Sixteen. Nah, that will be even more then. Eighteen Euros. So, seventeen. Okay, including the help? Yeah. Uh seventeen. I think we can uh discard the help and the mute button uh by pressing down volume long, or pressing down a a number long. That saves us uh one Euro already. 'Cause then we have got fifteen I think? Fifteen buttons. And this is No those are one, I think. Yeah but th it's not stated in this files. So maybe we can we can even make one button with the volume and the channel in one, by pressing That's possibility as well. So And it's good for the design as well. So you can make Uh let's see. If you make this Looks a bit like uh a cross. Plus. Min. Uh s yeah channel. Yeah w Yeah th I think they count uh the materials. Yeah on the chip there. Yeah. That's right. That's right. But I think because we have the advanced chip we can just count this as one button. But No but I think Yeah. Maybe it is, but then it seems to me that it's impossible to get the twelve and a half Euros. Also the L_C_ display, I think it's, I think it's too expensive for the display we use. I think they uh try t That's right, but what's the big advantage of our remote then? Yeah. No. That's extra. That's extra. That's right. That's an option. Poland. Something. Polish supplier. Don't you think we can, if we can count this as v as one button, and integrate th uh these buttons in three, then we save a lot of money as well. Yeah. That's a point. Yep. No. Yeah but uh we have to stick to the twelve and a half Euros. We don't have any more budget to develop it. Yeah. So It is. If you leave out the L_C_ display. And if you use less buttons. Say Or you can take the single chip. There it is. But then w Good looking. Yeah. I think it's uh difficult as well, but Or we can leave out the ten buttons and take one scroll wheel for the programme numbers. Then w Because then we save ten buttons. Then we have five and one. And and see. If we have this one and we've got the advanced W uh, we're getting close. Then you will Or maybe you can um scroll. If you scroll you will see the numbers on the L_C_D_ display. Until you've got the right number, then you push it. Alright. It's gotta scroll and push. Okay but then you you can push uh some other button as well. Yeah. That's right. So if you scroll to a number and then you wait a half second, then it g turns to that channel. But it would definitely crop cost, a lot. And we need the battery. And the regular chip is not possible? It has to be advanced? It has to be advanced. Yeah. Okay. And we can save a Euro by a flat design. That's an option we can Then we're almost there. Yeah. So if we Yeah but I think that's That is a big advantage, if we're But Can we use can't we integrate the teletext and the subtitles in one button? If you push it three times? Yeah. Ah that's not really that No. I think if you make a good advertisement uh on television and in the in the guide, you can explain to the people how to use the scroll wheel. If you just make it real simple. Because it saves it saves a lot of money. And we can keep our L_C_D_ screen, which can provide extra information. How to use the scroll wheel. How to use the other bu buttons as subtitles. And it's good for the innovative design as well. If you would erase these. Mm eraser? And we put uh Looks a bit odd maybe. That is Something like that. Then, yeah. We've got the scroll-wheel. One, two, three, four, five buttons, if we erase this one. And these are two buttons then. Yeah. Yeah. That's really a good good idea, I think. And it will make the use of the scroll wheel uh more obvious indeed. So we make one for the volume, one for the channel. Plus scroll. That's right. So we've got one, two, three. Yeah, we can leave the teletext in if we want. That's m that's better. Y yeah. Mm yeah. Uh yeah, and then you can That's right. So we can decrease this one to four buttons. Yeah. That's no problem. Yeah. Yeah. It's uh it's more the moulds in which they are being made, I think. Single curved is really easy to just fill in. And cases come right out of the machine. And single curved you have to have a different uh different machine, than a flat one. I think this is a really easy one. Um, what does everybody think about a flat or a single curved design? Freek, what do you think? Yeah. Yep. We have to cut costs. Yeah. Yeah I'm ag Ask for more money. Yeah. Yeah. I am agreeing with the usability. Yeah. Yeah. But th um I think we can then keep the single curved one. Just to express our L_C_D_ screen a bit more. So people will use it more, and especially for the help functions, it will be good if we have scroll bar, scroll button. It will be necessary to have good help function, as well. So this is scroll. I think it was better to have this price list a bit earlier. Before we went on to the to the whole design. But I'm glad we could make a bit. It's pretty different, if you saw the last one than this one. Yeah. It will. Yeah. No, but I think I think the most That's right. We can let l We can stick it out, a bit. Like a old old buttons. Maybe that's recognisable for them as well. Yeah. That's a good one. So, I'm afraid we have to move on. And it's uh it's b uh less frightening, I think. If they see this design they think oh, there are only five buttons, and uh But we will see. Yeah. That's definitely right. Yeah. I would buy it. That's right. I would buy it if I was six. No I don't know. What it costs under twelve and a half Euros? No? Uh, yes they are. No. But we can go on with the project evaluation. Let's see. I can sit down I think. We still have fifteen minutes left, so we're nice on schedule. Um, the project process. Evaluation criteria. That's right. That was the the point I forgot. I should There we are. Evaluation criteria. Go ahead. We've got five minutes I think for those criteria. No we've got fifteen minutes but Uh yes. What? Uh yeah. Okay. Yeah, that's because my pen failed to upload his data. I tried to but it's uh it's giving errors by downloading the software. I think it's fancy. Yeah. Six. Very. Subtitles, buttons. Yeah. Seven. Yeah. So we've got twenty cents for our docking station, huh? Yeah. That's right. That's a bit dodgy. I would say four. Four or five between. Between four or five. Yeah. Is it functional? Yes. No. Think it's uh seven. It was. I had them worked out. Mm. They are ugly, not very functional, and getting lost. Yeah. No I think with our new radio button, I think it's uh I think it's better. I think it Yeah. I would give it a four. Then we have to do the three. It's the Yes it is. Yeah. And they wanna put fashion in their products. Uh in the slogan of the company. And we have the removable front cases. So, I think it's very recognisable. Yep. We've got a calculate it. Mm? N We've gonna We're going to evaluate it. Forty nine. Forty one. That's Around eighty percent. What is it? That's eighty four percent. I think that's a pretty nice score. Okay. Thank you. So, that brings us to the project evaluation. Yep. Thank you. Project process. Did we move through the right phases, you think? Along the process? That's right. So lack of information about prices. Okay. Uh Okay. Satisfaction. Was there room for creativity? No? It's because of the finance sheet. Yeah. The room was Yeah. Restrictions. Internet access. 'Kay. Leadership. Was it clear what everybody had to do uh according to their roles and functions? Yeah? Teamwork? Did it work out? Working together? Also, you two of you with the uh last phase? Nice. tasks. Okay. Were the means sufficient for the tasks uh we had to do? Or were they too much? Smart-board. If it wants to download its uh data. Failed download. Smart-board was irritating. So you rather wanted to have a flip-over? Or something else? Faster as well, I think. Yeah. Flip-over. Yeah. Uh you need a smart board uh application I think. But I think you can Yeah. Should be possible. Yeah you can export it as image. Must Yeah must be So the sharing of the information was uh was okay? Uh, network. Yeah, pen is here on the table. Yeah. It's possible. Okay. That's nice. Have we found new ideas for having this kind of meetings? Or Yeah. Yeah. So Yeah. So everybody puts his own score. And then it mediates the score, and you can get one Yeah. That's better. So that's uh How do we call? Evaluation criteria. Okay. Mm, any more ideas? Or questions about the project? Or about the product? Because I think then that we get to our last sheet. Are the costs within the budget? Yeah. Do we Docking station. That's a good point. But maybe because of the docking station the price of the remote can also be a little bit higher? Uh and I think you can compensate that as well. So I think that shouldn't be the biggest problem, because it's very cheap to make as well. Do we think we gonna get the twelve and a half million? Or what was it? Fifteen fifteen million. I think we will. If we gonna export this product. It's innovative. Especially in America. People are pretty decadent. Sometimes. You can do more. Yeah. Just put it on the market for everybody. You can you can change markets where by changing the front covers. That's one thing you can change it with. So you can also try to uh reach the younger people by uh putting fancy covers on on the market. Just as a test. See how it works. That's I think a good advantage. Yeah. Uh, uh then I think we can have our little celebration, right now. That's it. Yeah. I think we still have to fit in one more questionnaire. I think. I don't know. I didn't get a message from the from ending of the Oh I think I have one now. Five more minutes? Oh that's nice. Then we still have some questions. If somebody has some questions they can ask them now. Or we can put these in the project folder as well. Maybe that's Export as picture, I think. Hmm. This is another network, I guess. Does somebody see the project folder? I don't. Hmm. My Documents. Yeah, I'll just put it in My Documents and uh That's okay. Okay. I think I'm going to make our final presentation now. And then I will be back in about ten minutes to show you the final presentation. Summary of the project. Yeah. Questionnaire. I think you all get a questionnaire in in your room. And then I'll meet you in I think about ten minutes, or something. Okay. Thank you. Hopefully my pen will download its software. Oh. Or data.So Yeah. Yeah. Uh, that's just uh the normal uh as th as the normal uh remote controls uh So um You put it uh you um came in uh page uh one hundred. Now you can use the normal uh one to zero buttons. And you But you can also uh use the um button th for uh changing the the channel. S so uh the shifting uh button. Uh for uh yeah shif shifting up in uh on t on t uh teletext, and shifting uh down. So Oh yeah? Yeah. Yeah. Yeah yeah. Uh, or you can build in uh when you press uh one button uh uh Yeah. But m Yeah. We disc discuss that already. But uh we think uh old people uh don't know that uh option. So uh they just put in uh put press uh the button and uh And uh Oh. Yeah. Yeah. Yeah, it Yeah yeah. Just to recognise it, so uh Uh yeah and now we don't need uh LEDs or um Y uh s some uh remote controls uh do it also, but um uh because we use the little display we don't uh have to use it. Uh so Nay. Mm. Yeah we can u just uh 'Kay. Mm. Yeah. Yeah. Okay. Yeah. Uh Sixteen, I believe so. Uh seventeen. Uh with the help button. Yeah.. Yeah. Where did uh Uh, it's just one button. But, um Yeah. There were uh two uh for one big button. But they are uh more expensive than the small ones. Uh, yeah. So It's just a. But I don't don't know if if it's cheaper. So uh, we've still got four buttons, but just um So You got uh not not a butt button itself, but uh on the um Yeah. On the chip you've got still uh four uh four buttons. So Yeah, but. Are we gonna buy a um a remote control uh when you can uh use it? So um Yeah. We m uh we must um stay below the um below um twelve uh fifty or Can't uh go um Nay. Is it impossible to But it is possible to make one uh for uh twelve fifty. I don't think so. S Yeah. But, you can't use uh Yeah. But we want to make a uh so uh uh fancy and a good uh Yeah. Uh, wi with n Oh, with uh attractive uh o options. So uh, you can stay uh below uh twelve fifty. So Scroll-wheel's one. No, it Yeah. Yeah. Mm. D yeah. Hmm. Ja ja. Yeah, or we have to uh skip the subtitle uh button. So Yeah Yeah it's a big advantage. But um, it's Uh, yeah. Yeah. Yeah. But if you push the teletext button twice It's uh One m uh one b uh, a few buttons. Yeah. Hmm. Yeah. Uh yeah. But uh, you can make a f quite a big uh remote remote control for uh just the same price as a small one. Just uh you only have to pay for the double curved or single curved. It uh it's a bit uh.. Yeah. Yeah. Yeah. The th No. But um But they know the scroll-buttons from uh old radios. Uh they cal also uh buttons like that for uh changing uh channels. So maybe it's uh Yeah. Yeah. Yeah. Yeah. Mm-hmm. But very special, so uh No. Mm. Yeah? Mm. 'Kay. Uh six. Yeah. Mm. Sh Yeah. Mm. Not really. For old people I I W Yeah. Four. Yeah. N Yeah. No. Mm m Yeah. Mm, th yeah. Yeah. Uh We have to test it s But Uh, yeah, true. I go for three. So Yeah yeah. Yeah. Hmm. Yeah. Yeah. But it Yeah. Yeah. Yeah. Yeah.. Mm. Yeah. So Yeah. Mm-hmm. Mm. Yeah. But Uh Yeah. A flipper's uh easier, so Yeah. But if you want to share uh of uh when you make um a picture like this uh on the presentation, it's easier to uh share it with uh other people. Uh so uh you can sh save it uh and uh put it on the internet, or uh uh in shared f uh folder or uh sh uh shared directory. So So Yeah? No? T can uh can you export it uh like a Yeah.. Uh. Uh, yeah. So you can Uh It's possible. Okay. Um, yeah maybe um uh when we n uh just uh give the numbers of of uh Uh uh o one of uh out of s uh sev Um it's uh easier to uh to do the th things that are like that on a computer. Uh, so uh just l uh like uh at u university uh So Yeah. Yeah. Mm. Mm yeah.. Mm. Yeah. Yeah. Mm. Yeah. Ah. Ah. Ah. Hmm. Where's the champagne? Uh, I believe y uh Okay. Yeah. Yeah. Uh maybe uh they will save it. So uh Okay. Uh maybe we have to fill uh another questionnaire. So uh Yeah. Yeah. Okay.Okay. Well this is what me and Richard came up with. The default spot for the on-off button. The mute button just below that. Then there's the volume and channel selectors. Simple plus-minus button. Uh we thought of a help button. If you hold it and you press another button, uh the help goes to the L_C_D_ screen. Then there's the zero to one to zero buttons. A button for teletext. A button for the subtitles. And the company logo. So it's rather simple prototype. And uh we'll have to see from testing uh how the users take it. Sure uh just pop in at any time. I think if you look at most controls, they've got more buttons than this. And well the on-off button, it's it's a necessity. You can't drop that one. The volume and channel buttons, you need you obviously need those those. The mute button could be replaced uh by pressing the volume-down button twice. So we could cancel that one. I think the help button really is necessary because there's no other way to know when someone wants to know what a button does. Well, you can't leave out the number buttons I guess. And Yeah. So it's rather basic already. Yeah, they're It's rather hard to draw on the white-board. But they're supposed to be equal sized, round, with a with a little logo on it for the for the volume, the the triangle and stuff. Just for recognition. So and for the materials we've just chosen for rubber buttons. With a a different colour than the case. So they jump out. And uh that's about it. Yep. Yes. Yep. Yep. Yeah. Yeah. Yes. Uh that's that's a big cost. If we leave out the display we can also save money on the chip. Which isn't the the docking station isn't even in this c s schematic. So it's not even taken into the price. We we could save money on it. But would it make the remote more usable for elderly people? My mother can't even send send an S_M_S_ message. So Yeah. The margin will get too small. Yeah. Ten. No remote. That's We're getting closer. Yeah. You could just not scroll for a half a second. So you won't need a button. If you want to use an L_C_D_ screen you you need an advanced chip, yes. Yep. Yeah if you v could just leave out one more button. Yeah. I think so. Yeah. What if you have to scroll to page eighty eight? Eight hundred eighty eight. Yeah. Okay. No. We could make two buttons out of that. And just um If you press the volume button you can control the volume with the scroll-wheel. So that would save two buttons. If you do the same for the channel. More obvious. So if we Yeah. So If we leave out all those buttons, perhaps you can go with the flat flat case. And make it smaller overall. So if you put the the volume and channel buttons on the same height as the on-off button, the screen right behi under that, than the scroll button you get a a much smaller remote. And it sh Yeah? Yeah. Richard's argument was very good. Yeah. Yep. Yeah. Six. Yeah. Four or five. Yes. No. Mm, we haven't thought of that one. I think that's a three. I still I think it's too m too fancy. Too too flashy. Twendag sieven an twendag. Yeah. Yes. Yeah. That's true. Yeah, there w there was enough room, but the finance uh Yes. Yes, was okay. The tasks are very structured, so you can just do step by step and it's very easy. Well, the smart-board, the d d drawing is just a pain in the ass, but The digital the digital pen is very nice. Yes. Yeah. A flip-over or a more precise uh digit Yes. No. Didn't work. Yes. Yeah. Considering we are not going to make a docking station. Perhaps. Mm-hmm. Okay. Okay.Good afternoon. Sorry I'm a little late. Got stuck in the traffic. Yeah. Um, is this the moment where we ask or can ask questions about the functionality? Um, when you're in teletext there usually are buttons where you just you just press it and you g go to the next teletext page. Mm-hmm. Okay. Okay. Um Yeah. Yeah. Yeah. Think so. That's what I pointed out earlier. If you just make a control for just the T_V_ there's just not much to gain here. Since it rechargeable. Um Damn. Wouldn't Yeah. No. That wouldn't be an option. Uh, d I assume you'd count the volume and channel thingies for two buttons each, right? Well, think actually there're two buttons, aren't they? Well I was thinking, maybe you could just integrate three of those numbers to one button. That would cut the cost. Mm-hmm. Yeah. But, I think this really is four buttons anyhow. Yes. Only the docking station, I guess. Maybe we should to a different supplier. Yeah. Yeah, that's what I'm wondering. Um Well, since the market research indicated that older people spend their money easier, more easy, maybe it's feasible to just put the price of the remote up a little. Especially since we have those nice features. It would be a be a pretty rigid one. Or b Basically becoming a choice between like either a good remote and a higher production cost, or just any other remote control. But how does scroll-wheel work here? That would bring up the price of the scroll-wheel also. Integrated scroll-wheel push-button. But Yeah. I think that would be like the end of our usability. Yeah, but Well, think it's pretty much the teletext subtitles are right now you just push the teletext button, go to page eight eight eight, and teletext disappears. But the subtitles stay there. I think that's the case on most Well, that could be just uh like the scroll to eight, click, scroll to eight, click, scroll to eight, click. But then again that would be d j just pretty much not an option for older people, who don't even know what a scroll-wheel is. Holding a remote with which they expect to have like ten buttons for the numbers one to zero. With only five buttons on it. And a scroll-wheel. True. True. That's a pretty big scroll wheel. So this is five buttons. Right now we have five. Mm. Well, I still think we should go for the single curve design. But then again, all these changes are not really okay with me. But since we just have to. I'd rather just go to the board and get us to spend eighteen dollars a a remote. Or do some market research and see what the options are. Yeah. Yes. Definitely. Yeah. It's pretty different. But this is not really like for the group we were making our remote. This will really require a lot of marketing to get this to sell. 'Cause if older people like familiar forms and familiar stuff. This is not familiar for them. So we're gonna have to do a lotta convincing them. Yeah. That's true. Might uh might be confusing too. They'd be like, what? Only five buttons? Yeah. But you're not sixty. Mm-hmm. So um, I like set up all these criteria. And evaluation of the thingy. Thank you. Five more minutes? Okay. 'Kay so I did some literature study study, and analysis of the requirements we set up earlier. Translated it into criteria, which would be these. Um, is the remote fancy? The shape, look and feel. Innovative? What new functions are there? Uh, easy to use? Uh, learnability is a very important factor here. Uh, is it functional? Are there not too many functions uh among the functions? And are the those functions that are there, are they useful? And the cost. The target group. Is the remote really for the group we're making it for? And recognability. If our company is If it is easily recognisable that our company made it? And So we're supposed to evaluate it right now. Let's see. Oh I have to say this was a little hard, because the minutes of our last meeting were not here. Okay. Interesting. So Is the design fancy, on a scale of one to seven? We all go for six? Good. Um, is the design innovative? I think so, with our L_C_D_ screen, docking station, scroll-buttons. Seven? Should be do-able. Is the design easy to use? Well Would be for us. But I'd go for four, too. Is the design functional? Um, do we have all functions that we want to include? I think we do. Do we have too many functions? I don't think so. It's pretty slim. Seven. Oh, and do we um take care of the biggest frustrations of the remote control? Like it getting lost and R_S_I_ influences? Think we do. Are the production costs within the preset limits? Well they are now. Does the design fit the group of focus? Yeah. I think it doesn't. I don't know. I think I think a radio button is not exactly what older people expect to have a remote control. I'm not sure. I think I'd go for two. 'Kay. Is the company company recognisable? Well, we have the logo there. So Yeah. So that will be this. I was also supposed to calculate the score, but thought we would have another private thingy after this. Is this Like after this, are we done? Or We're gonna go to our other room again. Well, anyhow. These are seven factors times seven is forty something. Two? No. Nine? Uh, minus one. Minus three, minus four. Minus four. So that would be minus eight. Forty one out of forty nine. Okay. Guess I'll just type that in on the bottom here. Hmm. 'Kay. So that will be the evaluation. Think we should have a should have had the finance thingy a lot earlier. In the design phase. Yeah. Definitely. No. Not too much. No. Yeah, true. But And I would've liked to go for the younger users also. And just to be able to access internet and get something of your own. Yeah. Mm-hmm. Yeah. Yeah. Yeah. Yeah, I tried to open the file on my laptop, but not possible. Yeah. no. Should've done that then. Pen is here. Mm. Yeah. Mm-hmm. Yeah. They are. Yeah. Fifty grand. Yeah. Yeah, still I think I mean if we're n gonna make a scroll-button anyway it'd be more for the younger people than for the older people. So maybe we should just re-focus. Or specifically for younger people. That's true. Yeah, I think then it would be way more uh popular with younger people than it is, than would be with older people. Even if it were their covers. But Party party. 'Kay. Oh you did. Mm-hmm. Yeah. Yeah, it probably will. Oh yeah, you're supposed to make a final Are we supposed to go into our own rooms again? Yeah. Yeah. That'd be nice.@highlightIn the detailed design meeting the team created a prototype.@highlightAlong with buttons for numbers, channel selector, volume, mute, on-off, teletext, and subtitles, the prototype included an LCD screen and a help button for functional information.@highlightOne rechargable battery, single-curve form and plastic case, brought the total cost to 17 Euros.@highlightTo reduce this cost, it was decided to replace most buttons with a scrollwheel.@highlightThe remaining buttons were one for channel selection, one for volume (both assisted by the scrollwheel), teletext, on-off and the help button.@highlightA suggestion to target the product to a younger or perhaps more general group was met with approval.@highlightAll these components were re-arranged in a revised prototype.@highlightIt was evaluated on a scale from 1 to 7 on the basis of the following criteria: fancy design (6), technological innovation (4), functionality (7), consideration of the target group (3).@highlightThe remote was also recognisable as a fashionable Real Reaction product.@highlightThe project process was deemed well-structured, although everyone thought it would have been better had they known the component prices at an earlier stage.@highlightTeamword and leadership were good, but room for creativity impeded by budget constraints.\n"
          ],
          "name": "stdout"
        },
        {
          "output_type": "stream",
          "text": [
            "\n",
            "\n",
            "2it [01:18, 35.71s/it]\u001b[A\u001b[A"
          ],
          "name": "stderr"
        },
        {
          "output_type": "stream",
          "text": [
            "Okay. Everybody found his place again? Yeah? That's nice. Okay so this is our second meeting. And uh still failing? Uh now we're going um into the functional design. Um important thing of this phase is that we're going to uh try to get an agreement about the user requirements, technical function design, and the working design. So that we can move onto the second uh phase. But first this phase. Um first an announcement. There's a little adaptation in the air conditioning system. So There's our ghost mouse again. That that means that you can have a little trouble with, little trouble with the air conditioning, that's because of this uh It's in wing C_ and E_. So it should be over in a in a while, couple of days. But it's going to be cold anyway, so I don't think you're gonna need it. Then our agenda. Now first the opening. Uh this time I will take the minutes. Uh you're going to have a presentation. All of you. Um and we've got forty minutes for the whole uh prese for the whole uh presentations. So uh I suggest we take about seven minutes per presentation, and then we can have a little discussion about the new project requirements uh which have been sent to me. And then the decision on the control functions uh which we wanna include and those which we don't wanna include. So we've got forty minutes for all of it. So I suggest um let's start with the first presentation. Um who wants to be first? Okay. So Just maybe it's easier if you um Yeah I think you will tell your presentation as well. Just which function you have and what you're gonna talk about. Okay. Thank you. So anybody have um any questions until now? About functional requirements? Okay that's clear. Now to the second. Yeah. Yeah you can take your time. We've got uh plenty of time, so Yeah. There it is. Yeah. One remote. Hmm. 'Kay. Yeah. Okay. Anybody has questions about the technical functions? Yeah. Touchscreen. Huh. 'Kay. That's nice. Uh Yeah. That's right. Uh maybe we can first um listen to your presentation? Uh And then we have a little discussion about the requirements and uh design. I think it's going to Uh it's not too much. Okay. Okay. Thank you. Okay. Uh Okay now I hope everybody has a little bit more insight in the functions we all have and what we are doing right now. Um I'm the Project Manager so I'm here to mess things up and uh tell you some new uh requirements. Um that's, we've uh got to design a um remote which is only suitable for T_V_. Um that's because uh it will be too complex and the time to market will be too big, if we wanna have it uh for more functions. So it has to be simple. Uh another point is we have to skip the teletext, because in the world of uh upcoming internet uh we think teletext is going to be uh a thing of the past. And uh it's a function we don't need in our remote control. Um internet is also mentioned in a function we can use. Uh maybe also on televisions it will be available as well. Another one is uh the customer is uh forty plus. Uh that's the the market we have to to to target, because we are going to develop a new product which is specially designed for the younger customers. Um this is uh a bit pity for the Marketing uh Expert. Because he was uh aiming on the the younger persons. So we have to find a market which is above forty plus uh but which will suit our uh remote control, and the other way round. And we have to be very uh attent in uh putting the corporate image uh in our product. So it has to be visible in our design, in the way our device works. And uh we have to be uh very clear on this point as well. So I suggest let's have a discussion on the control functions. Yeah. Uh we can see if we can find a way uh between the functions we wanna use and the market we wanna reach with our product. Um Against the no teletext? Um Yeah it's it is Standard remote. No I think we can I think we can do a lot with the design and the simple buttons which were also mentioned. Uh if we put a lot of effort in those, we can make a remote control with uh just two or three buttons. Or just a remote which is suitable for the market we wanna reach because it is forty percent of the market. And um if you look in Holland at the whole generation of forty plus, fifty plus, it it's the the biggest share of the of the whole population now. No. But don't you think that if we make a remote which is uh typically made for this market, that people think the people think that's the the device I've looked for although I didn't realise it. So let's try it. Yeah. Yeah. It's a big success. Very big success. Yeah. Uh. I think so as well. Uh I simply think um uh that the new products we are gonna make, uh spef specifically design, are designed for uh younger people, uh so maybe we can focus ourself on the elderly people. And I think we have to um see what requirements we need for those um remote controls. 'Cause what you told is the channel selection is important. Volume selection, power and teletext. Okay. Um No we we haven't voted yet, so Uh I think teletext can be uh um can be a function as well. But only if uh if it won't higher the the cost, because I don't know if it will be a lot more money to implement teletext as well, but I don't think it will be a problem. Or is teletext a Yeah. Yeah. So I suggest uh Yeah. Is anybody um really against teletext? No? Just that, that we just keep the teletext. I think that's a good idea as well, especially for the subtitles. Maybe we can make that um another point of advantage in our remote control, if we uh make a k a button ex for example for big subtitles, which is instantly on the remote control. For elderly people they can think, oh I wanna have subtitles, and they push the button and they get the big subtitles. Um so I think teletext can v can be very useful in our advantage. Um Functionality should be few buttons, you said. I think uh that's very important we have a few buttons. So to keep it simple. No. Yeah. But do you need But do you need the buttons for one to zero. Maybe c we can Maybe we can use uh No, maybe we can implement the scroll button? Or a joystick like? There are other ways too. Just look if you look at telephones. The Sony telephone has a scroll button which is very useful in searching names or That's right. the numbers yeah. Yeah they can see how much buttons there are going to be on on the display, and if it's too much we can uh reconsider it. But I think there won't be very much buttons. Or there don't have to be a lot. The number of buttons? I think it's very important in the in the design. You can make a very fancy design uh with putting the buttons on the right places. And if you have less buttons you can do a lot more with To operate only the T_V_ yeah. No. So. 'Kay. So we can Yeah. That's right. Yeah. So you suggest we could better um focus on for example the docking station. Uh uh like other functions. Instead of f of less buttons. Mm. No. Do you think the docking station will uh is allowed in the budget we have? 'Cause it can be No. Yeah. Because I think that's uh That's a good advantage point as well. If we have a fancy-looking docking station or very That's a nice requirement. Docking station. I think so. Yeah. That's a good point. Um You said they easily get lost as well. Yeah. So maybe we should implement the audio sign, or something. Yeah. Yeah. Yeah. So audio signal should be possible as well. I think it's not too expensive. Uh another point is the L_C_D_ screen. Um I don't know if that will rise the cost too much, because Yeah. It will be too much as well. Yeah. Based. Just the L_C_D_. Oh just the normal screen. That's a good idea. So Some extra info. Feedback. Yeah. I think that's a good idea as well. As the small screen. Extra button info. I think that should be possible as well. Um let's see what did we say. Mm. More. Should be fancy to, fancy design, easy to learn. Few buttons, we talked about that. Docking station, L_C_D_. Um general functions Yeah. 'Kay. And default materials. I think that's a good idea as well, because um elderly people don't mind if it's a titanium cover or just a plastic one. So that doesn't really matter. So I think we nee Uh let's um specify the target group. Because are we talking about elderly elderly people or people from forty to eighty. Because I think what we're going to design now is for people above sixty, maybe. Uh what do we want? If we want um a with uh for example the the telephone for elderly people, we can target the real elderly people. Yeah. So that's the Now you're talking about sixty to eighty for example. Yeah. Sixty. Okay. And different cultures. Are we Okay. No. We've got five minutes left just now. Small warning. Should Yeah. In different languages, you know. Yeah. or you have to put a language button in it, but that will be a bit unnecessary I think. It's better to put it on different markets with it all. Okay. So that's the the target. Uh then a few small things. Uh okay. I will put the minutes in the project uh project document folder. Um what we're going to do for the next meeting is the Industrial Designer will do the components concept, User Interface Designer the user interface concept, and the trend-watching. So just keep in mind the things we've said about the target group, uh requirements, and the trends which are uh going on. And uh specific instructions will be sent to you by uh the personal coach. So um I thank you for this meeting. And I think we have a lunch-break now. So that's a good thing.No. Well I think if we are gonna use a touchscreen uh we're gonna go way above the twelve and a half Euros. But the It wouldn't be very robust. It's very fragile and you can get scratches on it. That's. Okay. Okay I've got a presentation about the working design. Um first about how it works. It's really simple of course. Everybody knows how a remote works. The user presses a button. The remote determines what button it is, uses the infrared to send a signal to the T_V_. The T_V_ switches to the frequency, or what function it is. So we've got um the the plate. It gots conductive disks for every button. When the user presses a button, a signal got sent, goes to the LED and transmits tranmi transmits its to the T_V_. It's a very simple device, technically speaking. So this is a schematic overview. You've got the buttons. The power source. And uh when a button gets pressed, its goes to the chip. The chip uh controls the infrared bulb and perf perhaps a normal bulb. When you press a button you can actually see your pressed button. Well um I think we should use default materials, simple plastics. Keep the inner workings simple, so it's robust. Uh I think we should focus on aesthetics, the design and the user interface, because if you're going to use high-tech materials the price is going to go sky-high. And uh you only have to design a remote once, and if you use high-tech materials it come back in every product. So it's, in my idea, it's uh it's gonna be smart to invest in di in design and not in uh in the product itself. That's it. I think that if we're If we put our marketing right um we can sell this just like um I don't know if you've heard about it in the news, the the elderly mobile phone? Yeah if we if we make a remote control just l with that idea in mind, we could make tons of money, I think. We don't have to focus on on on the on the design then but on functionality. We just change our focus on the project, and I think we can uh we can sell this. No. Uh that's a good idea. Yeah. And besides that it's um If we're gonna focus on elderly people they'll have to adapt. They're not used to using scroll buttons. So perhaps we should s stick to the basic layout. It should be possible yes. If it's not too fancy. And if the remote stays rather small, it should be possible yeah. Yes. So we're just gonna focus on the extras? Yeah. Like with your key-chain, if you whistle it goes uh it makes a sound. Yeah. Y i um I think we'll have to choose between the docking station or the screen, 'cause it's uh Well I don't think they have different television sets uh in uh every country. 'Cause Yeah. Yeah.Yes. Yeah. Okay. No. Yes. Think I'll go first. 'Kay. My name is Freek Van Ponnen. I'm the Market Expert. But you already knew that. Um I've done some research. We have we uh have been doing research in a usability lab where we observed um users operating remote controls. Uh we let them fill out a questionnaire. We had one hundred of these uh test subjects. Uh in addition we did some market research. Uh see what the market consists of. What ages are involved. Well these are three quite astonishing results, I thought. Um remotes are being considered ugly. F uh seventy five percent of the um people questioned uh indicated that they thought their remote were was ugly. Um and an additional eighty percent indicated that they would spend more money on a fancy-looking remote control. So Um in addition remotes were not very functional. Fifty percent of the people indicated they only loo used about ten percent of the buttons on a remote control. And fifty percent of the people indicated that their remote tended to get lost in their room. So some things. Then we did some research to the most relevant functions. Channel selection and volume selection um both got a ten on a scale of one to ten for relevancy. The power button got a nine. And teletext got a six and a half. So these are the most most uh important functions on a remote control. Then there are some one-time use function. That's what I like to call them. That uh audio settings, video settings, and channel settings buttons. Which are not really used very frequently, but are still considered to be of some importance. Um channel selection was also indicated to be used very frequently. One hundred and sixty eight times per hour. Then these are the This is the market. Um sixty percent of the market consists of users between the ages sixteen and forty f six. Um Main characteristic of this group is that they're very critical on the remote control. Um they like to use new f new functions. But they also are very critical. They won't spend their money very easily. So Um the users of forty six to sixty five years cons The make up forty percent of the market. They are not really very interested in features. But they do tend to spend their money a lot easier. Um What I think this indicates for our um design. I think we should make a remote for the future. And this means we would um have to focus on the age ages sixteen to forty five. Uh this also makes up most the biggest part of the market, so that will also be where our main profit would be gettable. Um this would mean we would have to make a fancy design. Um The results also indicated that um about one quarter of the people questioned thought that the remote control caused R_S_ R_S_I_. Um this is certainly something to take into account. And thirty four percent thought that it was hard to learn a n how to operate a new control, remote control. So these are two factors that I think should be included in the design. Besides of course that the remote must look very nice. And the functionality As a lot of people indicated, they only use about ten percent of the buttons, I think we should make very few buttons. Uh this will also be uh beneficial to the design of the remote. Uh I think the most frequently used buttons should be emphasised. Especially the channel selection and audio uh selection buttons. 'Cause they're used most and so they should be robust. They shouldn't break down easily. Um Then as mo as a lot of people indicated that their um remote got lost in the room, it might be and I say might be because it would um certainly boost the uh production costs a lot. But it might be a good idea to make a docking station. And this would, could get a button in it which would send a signal to the remote which would then beep. So you'd know where it is in the room. And in addition to this it could um recharge the batteries in the remote if you put it in. Then um a surprisingly great deal of people w indicated that um an L_C_D_ screen in the remote control would be preferred. This was um mostly people in the age of sixteen to twenty five. But up till forty five it remains feasible. This would also greatly increase the production costs but I think these are just some small factors we could consider. That would be all. Any questions? 'Kay. Yeah you should go to the top thingy. Slide show. Oh yeah. Hmm. Well it would certainly make a fancy design. So That is true. We would have to look into that. Yeah. So is there any discussion possible about the new product requirement? Yeah 'cause you're you're saying that teletext is gonna be an old feature and it's not gonna be used anymore anyway pretty soon. And new T_V_s will have internet access on them. But I think if you're targeting people of forty plus, the chance that they will have a T_V_ with internet access within the next like twenty years is very slim. In addition people indicated that teletext simply was an important feature for the remote control. So I think it's pretty dumb to put no teletext feature on it. I'm pretty much against it. Yes. Besides that, I think the market for forty plus is like pretty small. But I mean if I s if I see this, it's I think we're just gonna go for another pretty and not innovative remote control. Yes but it's not the biggest part of the market. And besides that, they're not very critical so I mean they don't really care what the remote control is like. They'll just pretty much take the first thing they see and which looks acceptable. No. I think that would be the case in the sixteen to forty five age category. because they are critical and they they want to have a fancy remote control. People of forty plus, I mean they want it to work, but as soo as soon as it works it's okay with them. So I haven't heard of it. Hmm. Yes. Yes. But obviously the board tends to disagree. Yeah, also. I think it'd definitely be a bad idea not to include teletext. Yes. Mm-hmm. But I don't think that's really an issue any more 'cause Well might be. But I mean it, if it's only for T_V_ you're not gonna need a lot of buttons anyway. You need a one to zero button, next channel, previous channel, volume up, volume down, and some teletext buttons but I think if you if you only l Nah. Think if you're gonna include teletext you do. I think many people like to use that. 'Cause if you should, if you want to switch from channel one to like thirty five, you don't wanna push the next channel button thirty five times. That's true but um I don't think there are many T_V_s that can switch channels that fast. And so you would need like the T_V_ would need an a function where you can actually view all channels and scroll through it. And I dunno if many channels would do have that. If many T_V_s have that. Mm-hmm. But I don't think I think if you're gonna make a remote control only to operate a T_V_, you there's not much you can gain on um having as few buttons as possible. 'Cause I think there are pretty many remote controls that can only operate a T_V_, which already only have the minimum number of buttons. I don't think there's much to be gained in that area. Yeah. That is true but I think there's simply not much to gain on the competition when you when you're making a remote control only for to operate only the T_V_. 'Cause if you have a a remote control only to operate a T_V_ there's simply not a lot of buttons required. There's not a lot of functions required so most existing remote controls simply don't have a lot of buttons either. So I think it would be very hard to actually gain on the competition here. That would that would cost a a big marketing expedition which was one of the arguments to make it only for the T_V_ because we didn't have the time to market a lot. Maybe. Well yeah I think, mean we obviously need a good way to position all the buttons and But I don't think we should spend very much time in that. Yeah I think maybe we should do some research into what elderly people like to have in a like to have extra in a new remote control. Yes well fifty percent of the people indicated that remote control tended to get lost. Yeah that was what I suggested. You have it on Yeah you have it's on some phones too, which have a docking station. And you just press a button and the phone goes ringing. So you know where it is. I think since a lot of people indicated that a new remote control is hard to learn, and we're focusing on elderly people here which tend to have a hard time understanding new devices, it might be a good idea to have just a little screen on it, which would explain a button if you press it. Which would tell you what it does. And it wouldn't have to be touchscreen or a very expensive screen, but Just a small screen with two Yeah. But I dunno if that would that would fit into the costs. No. I think probably elderly people would be a little bit more careful with their remote controls than youngsters. Yeah. I think I think that would be a If we should do something like that it would be a, I think it would be really good for uh for the image of the company. And I think, I think there would be a good market for it. If we're able to really bring an innovative product. Yeah the really But I'd have to look into that a little more. 'Kay. And with uh the little screen in it, which explains the buttons. You could I think we n it would be a lot easier to adapt it to different cultures. Yeah. Yeah. 'Kay. That's good.Okay. Mm. Mm-hmm. Uh okay. Um I've been looking at uh the user interface of it. Um f for the techno f functions uh of of it. Um Okay. Mm? Oh. Uh. Okay. Um yeah. I think uh we uh must use the general functions uh of the uh remote control. Uh uh I've do I've uh done a little uh research on the internet and not much information about it, Um about uh interface but uh Uh Yeah I I've been thinking about a simple manner uh to put a lot of functions uh uh in one um in one uh remote control. Uh so uh you've got a lot of devi uh devices like uh D_V_D_ uh uh television, uh stereo. So um But uh it must be uh user-friendly. So um uh you c you can't put a a lot of uh functions uh in one uh Yeah. Uh uh uh Yeah. In one um remote control. But um Yeah. Um yeah. Got uh many functions in one uh remote control, um but um yeah you can see, this is uh quite simple uh remote control. Um few uh buttons but uh This uh re uh remote control got a a lot of uh buttons. Um uh people uh don't like it, uh so um Well what uh I was uh thinking about was um uh keep the general functions uh like they are. So uh like uh the on-off uh button. Uh keep it uh yeah l like a red button. Uh everybody everybody knows it so uh uh you don't have to change that. Um My personal uh preferences um. Use a display for uh specific uh functions of the different uh device. So um Wh what I was th uh thinking about was um you've got um Uh this the remote control uh and uh you got here the general functions, uh like uh the on-off button uh sound uh I dunno um And um here you've got a s kind of a display. It's a touchscreen. So um yeah you got a general f uh f the functions of the device uh for a D_V_D_ player or uh so um the pl yeah um f for uh playing uh reverse uh. And um you got here uh real buttons for uh selecting uh a device. So um this button is for a D_V_D_ or So um for every um device you've got a uh a f a b a part uh display of a part buttons. So uh you you never got uh all the buttons uh on w one device. So uh that's uh my uh idea about it. Um yeah and Uh let's see. Uh yeah. So a touchscreen. Uh and um th the buttons uh the real buttons uh we have to use um. We better c um uh use uh quite uh large buttons uh for um yeah. Everybody uh have to use it so Uh ol even even old people um young people. So uh we must keep uh buttons uh quite s uh simple and quite large. So uh Um Yeah. Uh yeah. That was uh my uh part of it. So N I I don't think so. Uh you got uh quite a cheap uh touchscreen. S um it's uh not uh in colour or something. Uh it's just uh um one colo Uh yeah. Uh I seen uh w uh something on the internet uh not today but uh a few uh weeks ago. Uh you got uh yeah quite an uh a kind of uh touchscreen um and it's uh for uh twenty uh Euros or uh less uh. So it's possible. Yeah. Yeah that's true. Uh. Okay. Mm. Mm. Yeah. Mm. forty Yeah. Yeah. Mm. Mm. Mm. Yeah. But um deaf people need uh teletext for uh for subtitles. So it's Yeah. It's Mm. Yeah yeah. Yeah. Yeah. Yeah. If it's only for televi Yeah. Yeah. Yeah. So we can s we can skip the display, so uh we don't need it. Uh Yeah. Yeah. Mm. Yeah. Mm-hmm. Yeah. Mm. Mm. Yeah. Hmm. No. No. No. Hmm. Mm. Hm. No. Mm. Okay. Yeah. Yeah. Mm. Mm. Yeah. Mm. Mm. No. So 'Kay. Yeah. Right. No. Yeah. Yeah. Yeah.@highlightThe project manager stated the agenda and the marketing expert discussed what functions are most relevant on a remote, what the target demographic is, and what his vision for the appearance of the remote is.@highlightThe marketing expert also brought up the idea to include a docking station to prevent the remote from getting lost and the idea to include an LCD screen.@highlightThe user interface designer pushed for a user-friendly interface with large buttons, a display function, a touchscreen, and the capability of controlling different devices.@highlightThe industrial designer discussed the interior workings of a remote and the project manager briefed the team on some new requirements they are to abide by.@highlightThe team then discussed teletext, the target demographic, the buttons the remote should have, the idea of marketing a remote designed for the elderly, an audio signal which can sound if the remote is lost, LCD screens, and language options.\n"
          ],
          "name": "stdout"
        },
        {
          "output_type": "stream",
          "text": [
            "\n",
            "\n",
            "3it [01:52, 35.30s/it]\u001b[A\u001b[A"
          ],
          "name": "stderr"
        },
        {
          "output_type": "stream",
          "text": [
            "Hi. Oh. Good morning. I'm Juergen Toffs. I'm the User Interface Designer. Ach. Ooph. Very artistic. Okay. Wow. He does have body uh Huh. You don't have to change the colour and the pen width during uh the drawing. Or You have to draw uh push hard on the pen or uh Oh. Uh hmm. Okay. Oh. It's a very bloody cat. It's a frog. Uh it's an apple. A dog? Huh? Oh, it is a turtle. It's uh inside its shell. You'll be uh finished sooner. Wow. Yes. Okay. Wha Thank you. Yeah. Um How did it work? Performance? And a pen? Um Well, very good. I just uh thought I'd pick the easiest one. Well, we had a dog, a few years ago. And and it, yeah, when it died we didn't get a new one or something. But uh Uh a Graphical User Designer, so Hey. Oh. No. Can work together. Ah colour. Well, it's okay. Yeah. Uh-oh. Oh, he is the artistic design. Remote control animal. Well with the interface, it might be easier to ha to draw here and display there uh. Than on the, with Yeah, I m I mean like uh like on here, drawing drawing uh. And then displaying on screen, but Too expensive, yeah. A green rabbit. There, the g white green rabbit. He's a little bit stoned there. Yeah, how much is it? Hundred million uh remotes or something? Oh yeah. Um well I think the most important thing of a remote control is that you can switch channels. And my opinion is you should keep it as basic as possible. Uh Is it possible to open pen drawings in this uh on this screen? Uh but um which The ones we made on the Oh, only in Word, okay. For what purpose? We And and the price. Okay. And him. Yeah. Um one thing uh, we must first agree on uh what we're going to m going to make. Do we Are we going to use um it it for multiple systems? Or uh We should have some agreement on that before we Okay. Ah okay. Consensus on the, what we're gonna do. Yeah. Well yeah, if the technical functions have to be designed, I I've gotta know for what kind of machines they will be. Or do we use it a text screen? Or uh will it be with uh with bluetooth or Okay. Mm-hmm. Okay. Sorry. Yes. Yeah. No. Come up.Hi. Morning. Hi, my name's uh. I'm the Industrial Designer. By the way, why was your cat uh red? Oh, okay. Oh, yeah, sure. No, it's a turtle. Must be a dog. Yeah. Uh. Hmm. Yeah, sure. Uh thanks. I figure I should do something like that, but I'm gonna do something much more difficult. Exactly. Uh Yes. No. No. Yeah, exactly. So. Uh I figured this is a pretty b good impression of a rabbit. Uh uh Uh well. Where does the pen go? Just uh Uh I figured the rabbit was actually the most uh impressive. Oh, sorry. Twenty million. Two million, oh yeah, two million. Yeah. And and him. I figure we could get back to it on the next meeting actually. Yeah. Yeah, actually it is. Then looking at individual components, so that's actually a f step further. Yeah, we can take it from there. Yeah, I agree uh, we can take it from there. Or edit. Okay, cheers.Good morning. By Big Brother? Okay. Mm-hmm. Yeah. Okay. Of our faces. I'm uh Tim. Um my function is the Marketing Expert. Speaks for itself. I have a question. Um this exercise, um did the company board tell you to do it, or uh did you just make it up yourself? It's part of the introduction, okay. Okay. Um, yeah. I don't know really how it works. But maybe you can show us first? You g you get electrocuted or It's like Pictionary? The the one who says it first gets a raise. It's a pork? Mm yeah, I have it at home. What's it called? Ah. Miniature size? Okay. Okay. We have to speed up. Remember you use uh different colours, and different pen widths. I Okay. Save it. You have to save it. I've done it. New? 'Kay. Mm uh Not really. Um That one. Yeah? Okay. Open. Which one is it? Smart board? Okay. And now? Okay. Okay, thanks. 'Kay, I've speed up. 'Kay, that's fine. Line width. It's not an apple. Hmm. Colour. Something like this. Smaller. Um 'Cause I liked Teenage Mutant Hero Turtles. Uh? No, it's uh No no. It's coming up. Mm. Uh. Something like this. Okay, you know Very artistic. Yeah? Here you go. Uh the big lines were like nine. Uh, it's p It's pretty good uh An artist. Think you uh picked the wrong uh function. Wrong job. Wha That's enough, thanks. I wonder. I'm gonna design a remote uh remote control animal. Oh. Sorry. Yeah. That that might be easier. But at the other hand, uh a pen like that is easy to hold in your hand, and I think it's easier to draw. Yeah. With a pen than with a mouse mouse. Mouth. Oh, okay. Yeah. W with this paper it's too mu too expensive. It's a rabbit with uh broken legs? Yeah. It will do. Project Manager? Uh Have you been uh counting the time? Okay. Let's go on then. It's pretty abstract. Like how much? Yeah. Yeah. I think so. Uh but I have some points. Can I show them on the on the big screen? Maybe? Yeah. Yeah, I can find Uh. Screen? Okay. Okay, I have some uh points from marketing point of view. Um just the standard thing li things like uh intuitive, uh small, fairly cheap. Uh it's pretty cheap, twenty five Euros. Uh brand independent. Um I think, it doesn't have to matter uh which brand your T_V_ or other thing is. Um Five minutes? Okay, I'll wrap it up quickly. Um I personally think it has to be multi-purpose. Uh most of the remote c uh remote controls are uh just for one purpose. And uh by making it multi-purpose, it uh has a new feature, adds a new feature to the market, and distinguish from uh from current products. Um maybe some other technology than infrared. Uh I rather find it very annoying um, like when someone is standing in front of the T_V_ then you can't switch it. Um think about um sending it over radio waves or bluetooth. That might be a little bit uh expensive. Um And something like an L_C_D_ screen. Um uh like I said here um Maybe it's easy. It's nice as an added feature feature, that um, when you're on a certain channel, you can see on the L_C_D_ screen uh what programmes are coming up or From my point of view, yeah. Yeah, it has to be uh Yeah, our company is very uh good in making new innovative uh things. So i i i i To the current market. Look, you got some cheap uh remote controls there. They just uh Yeah, you got a dozen of 'em. But when you enter a new market with a remote control and uh wanna gain market share you have to do something special, I think. Yeah. Yeah, of course. But it's But but this is just from marketing uh aspect. I don't know anything about user interface or design. Mm uh I I don't think we have to be, we have to agree on that. Uh I think th that's a pha Yeah. That's a phase further. Ju just uh make some mock-ups, some some general ideas. And and then we can plan Yeah. We can plan further, I think. Mm yeah. I don't know. You decide. You're the Project Manager. Uh tha that's a same step further. Yeah. Uh. Yeah. Like we all have a list of uh things that has to b that have to be in it, or how it has to be like. And then in the next meeting we decide w what it's gonna be. A And then you s then you can delete uh the o the obsolete uh details. I think. Yeah. Yeah. Damn. Success?Hello. Good morning. Uh before I start with the with the meeting I have a few things to tell you about the the setting we're in, uh because we're uh being watched by uh Big Brother. So um Yeah. Yeah. This uh These are cameras, so are these. This thing uh that looks like a pie, are actually all microphones. So you must be careful with uh with uh all this. And uh as I can see you uh you have placed your laptops uh exactly on the place where it must be. And that has to do with the camera settings, so we don't have our uh laptops in front of the cameras. And Indeed. So they can see our faces. Okay. Welcome at the kick-off meeting. My name is uh Danny Wolfs. Uh this is the agenda for today. Uh first a little opening. Uh I will introduce myself, uh and uh I think it's very uh good to introduce uh yourself. Uh then uh a little bit of acquaintance, acquaintance to uh to to ourselves. So uh we get to know each other. Uh that will be done uh with a tool training from the he these two uh smart boards. Then the project plan. What we're going to do, and how we're going to do it. Uh and discussion about that and a little closing at the end. Okay uh, my name is uh Danny Wolfs. I'm the Project Manager. What's your name? User interface, okay. Industrial, yes. Okay, thank you. First a little about the project aim. Uh the the the aim is to make a new remote control. Uh maybe you have read uh read the website. It's a very uh, yeah, very uh ambitious uh company. They uh they wanna do something else. I w Uh there must be a new remote control. Uh first of all uh it must be original, uh and trendy. That's two things really uh close to each other. But at the same time uh user-friendly. And they have uh Yeah, that's uh very important uh for them. Uh there are three stages. There is a functional design. So uh what are we going uh to uh to do? What are we going to uh uh make f uh kind of functions in the remote? And why are we going to do it? Then the conceptual design. How are going to do it? And that's uh really global. Uh because at the detailed design, how, part two, uh we go uh to dig in uh really about how the the te the technical of If it's uh it's possible technical-wise. Uh each stage is uh uh is broken up in two uh two stages, individual work and a meeting. So it's uh it's very straightforward. Okay, the tool training. We have two smart boards. This one is for the presentations, the PowerPoint presentations or the Word presentation of whatever you uh you had. Uh and this is uh only for uh drawing. So uh we uh must let it uh stand on this uh this programme. This is called a smart board thing uh Yeah, it speaks for itself. Um and as you uh may have heard, the documents in the shared folder uh can be uh showed on this screen. Not in y the the My Documents. So if you wanna show something, put it in the shared folder. Uh This uh is very straightforward, with the save, the print, the undo, the blank, the select, the pen. Well, I don't uh gonna explain it all, because I think you know uh how it works. Um we must not forget uh everything we draw on here, uh all must be saved. We we may not delete anything. So uh if you have uh drawn something, save it. Never delete it. That's a very important uh thing. Okay. Uh little uh little kinda exercise to uh know each other. At uh the white board on the left. Every uh every one of us uh must draw our favourite animal, and uh tell uh tell us why we uh had uh chosen that animal. Uh important is that we use different colours, and uh different pen widths. Widths. Widths. Yes? Yeah. No no no. It's uh it's uh I I I must do it. Yeah, yeah, yeah. 'Cause we uh really don't know each other, and uh it's kinda new. So getting used to each other, we can uh have a little fun then, before we uh dig in really to the hard stuff. That kind of thing. Would you start with drawing your uh favourite animal? Okay, okay. Yeah, okay. Drawing goes with uh this thing. Do not touch your hand on uh this little uh thingy here. That's uh important. So hold it uh like this. Yeah, kinda. So, um You must p p uh push a little uh Good. Because And uh wait uh wait a few seconds. It's not uh fully real-time, so uh watch it. Oh yeah. Well I'm gonna paint in the red. Oh. That's the background colour. Well, undo. Um The pen? No. One minute please. Yeah, that's the one. Well, five. Okay. My favourite animal huh? Yeah, you can guess what it is. May uh paint uh next. No, it's not an orc. You don't see it uh at the ears? You have an orc at home? Thank you. So it's a cat. Simba. 'Cause uh we have a cat at home and he's called Simba. 'Cause he looks like the uh the the lion from The Lion King. So we uh found it kinda cool to uh name it after a lion. He's happy with us, so uh he's smiling. No, only the face. Because we have we have twen twenty five minutes. So we uh Yeah. Yeah. Okay, who wants to go next? Yeah? So choose a colour, choose a pen width and draw a Yeah. Save it, okay. Kind of firm touch. Yeah. Because uh my cat is red uh at home. And I have red hair, so uh must be red. It is a turtle. Why a turtle? Why? Tim? You watched it a lot? You watched it a lot? It's a scared turtle. Okay, Tim. Thank you. Jurgen, you want to go next? Format? And then you have the the current colour, you can change. So no red or green. And uh line uh width. I had five. Tim had Uh Tim, what kinda line width did you have? Okay. It's a dog. Okay. Why a dog? You have a dog at home? Had a dog? Yeah? Ah. You have an artistic uh inner middle. So I think you can see it's real uh really a easy programme to use. Not difficult at all. Okay, thank you. Janus? The last one? Yeah. After a cat, a turtle and a dog. I think he's gonna draw an elephant. Uh-oh. No. Better to draw with a with But what is he uh? Is it a rabbit? Do you have a rabbit at home? Is it a white rabbit f It's the white rabbit from The Matrix. Okay, then yeah. Okay. Finishing touch and then we're going further. Yeah? Yeah, a little. Well, I think the dog is the the most uh artistic. Don't choose for youself. That's selfish. Okay, now we're gonna dig into the to the serious stuff. Uh the selling price for the remote will be uh twenty five Euro, and the production cost uh may not be more than uh twenty and a half Euro. So uh from my point of view, I don't think it's uh gonna be very uh very high tech, high definition, uh ultra modern uh kinda remote, for twelve uh fift uh twelve and a half Euro. Uh the profit we must make with uh the new remote is uh fifty million Euro. So that's a lot. We have to sell uh a lot of uh Uh I think uh w when the selling price is twenty five, uh uh you got two million, two million remotes. But our marketing range is uh, market range is international. So we have uh virtually the whole world we can sell uh we can sell our r remotes to. At least that uh countries which have uh a television. Um So now it's time uh for us to uh going uh to discuss a little uh things. You can think about uh experience with a remote control uh yourself, at home. What you think might be uh a useful uh new feature. What uh what can distinguish our new trendy remote control from all the others. Um so uh let's uh let's uh discuss a little. I'm gonna join you at the table. Well what what's the most uh important thing at a remote control? Okay. So not a not a remote control who uh uh which can uh can be used for television and a D_V_D_ and radio and Or just only If you have them on uh I can uh Okay. Oh, in case you want it This is a dead kind of fly. Between the the the, yeah, the the uh Yeah, be The screens. No no no. Only All the drawings go there, at the left uh Oh, that pen drawings. Uh no, I think uh when it is uh in Word and you have saved it in the Shared Documents folder, you can show it there. Yeah. Yeah. Yeah. Okay. Five minutes. Yeah. Yeah. Yeah. Mm-hmm. Okay. Okay. Okay. So it be uh a multi-purpose uh very technically uh high uh remote? Yeah, it must be really uh innovative, technical-wise? Yeah. So yeah, I I agree with you. So we must focus on things who are really uh really add something to uh to Yeah. No. Mm-hmm. Yeah. Yeah. But we have to keep an eye that it's Uh at the beginning of such a project, it's it's it's very uh cool to talk about, well, this would be cool, that would be cool. Uh but we must not uh lose uh sight of the the user uh uh friendly uh Yeah okay. Yeah. Okay. And that's because we have him. Okay, uh next meeting will start in thirty minutes. So uh you uh will have uh individual actions where I presume uh will be some feedback, uh via the m the mail. Um the the the Industrial uh Designer has to uh look at the working design. Uh the User Interface Designer has to look at the technical functions. So that's the thing we uh discussed. Yeah? Okay. Um wha Yeah. Yeah. But maybe, because uh you are working on the user requirements, you are working on the technical functions, we uh must uh have a little or kinda uh uh uh How do you call it? Uh Uh a little plan on on what we're going to do. So you don't uh uh come up with the user requirements who don't fit the the the the technical functions at all. Some basic things we co we want to going to do. Uh I think that's well uh Yeah. Will come in handy. Okay. W He says Yeah. Well, th that's that's really a step further. But if you say uh is it uh uh one way or multi-purpose, that's a Why? Why? Yeah. Yeah. Okay. Okay. So uh each individually i individually uh must think on what's uh at uh his point of view is the most important. And uh then we're going to fit uh all the pieces together the next meeting. I must finish off now, so it's over. You uh will receive specific specific instructions uh by your personal coach. And I see you in uh thirty minutes. Thank you. Be careful.@highlightThe participants introduced themselves and their roles to each other.@highlightThe Project Manager introduced the aim of the project and gave a brief agenda for the entire project.@highlightHe then introduced and explained how to use the meeting-room materials.@highlightThe group acquainted themselves with the materials by drawing on the smartboard.@highlightThe Project Manager presented the project budget and explained that the device would not be made very high-tech due to the small budget.@highlightHe explained that the device would be sold internationally.@highlightThe group discussed their initial ideas of features to include in the design; the Marketing Expert discussed usability features, such as the ability to control multiple devices and an LCD screen, to make the product unique.@highlightThe Project Manager instructed the Industrial Designer to work on the working design and the User Interface Designer to research the technical functions.@highlightThe group discussed the timing of when they would make decisions on the features discussed.\n"
          ],
          "name": "stdout"
        },
        {
          "output_type": "stream",
          "text": [
            "\n",
            "\n",
            "4it [02:22, 35.55s/it]\n"
          ],
          "name": "stderr"
        }
      ]
    },
    {
      "cell_type": "code",
      "metadata": {
        "colab": {
          "base_uri": "https://localhost:8080/",
          "height": 293
        },
        "id": "NUlJy5mdZOnx",
        "outputId": "b57db842-4d42-4857-c7f5-f1097c313bc9"
      },
      "source": [
        "test.to_csv('test_ext.csv', sep='\\t')\n",
        "test.head()"
      ],
      "execution_count": null,
      "outputs": [
        {
          "output_type": "execute_result",
          "data": {
            "text/html": [
              "<div>\n",
              "<style scoped>\n",
              "    .dataframe tbody tr th:only-of-type {\n",
              "        vertical-align: middle;\n",
              "    }\n",
              "\n",
              "    .dataframe tbody tr th {\n",
              "        vertical-align: top;\n",
              "    }\n",
              "\n",
              "    .dataframe thead th {\n",
              "        text-align: right;\n",
              "    }\n",
              "</style>\n",
              "<table border=\"1\" class=\"dataframe\">\n",
              "  <thead>\n",
              "    <tr style=\"text-align: right;\">\n",
              "      <th></th>\n",
              "      <th>inputs</th>\n",
              "      <th>targets</th>\n",
              "      <th>ext_summary</th>\n",
              "    </tr>\n",
              "  </thead>\n",
              "  <tbody>\n",
              "    <tr>\n",
              "      <th>0</th>\n",
              "      <td>Thanks. Yeah, that's probably a better one, to...</td>\n",
              "      <td>The Project Manager reviewed the minutes from ...</td>\n",
              "      <td>Yeah, that's probably a better one, to discuss...</td>\n",
              "    </tr>\n",
              "    <tr>\n",
              "      <th>1</th>\n",
              "      <td>Good afternoon. So Hello. No problem. Okay. Th...</td>\n",
              "      <td>In the detailed design meeting the team create...</td>\n",
              "      <td>In this meeting we will discuss our final desi...</td>\n",
              "    </tr>\n",
              "    <tr>\n",
              "      <th>2</th>\n",
              "      <td>Okay. Everybody found his place again? Yeah? T...</td>\n",
              "      <td>The project manager stated the agenda and the ...</td>\n",
              "      <td>Uh now we're going um into the functional desi...</td>\n",
              "    </tr>\n",
              "    <tr>\n",
              "      <th>3</th>\n",
              "      <td>Hi. Oh. Good morning. I'm Juergen Toffs. I'm t...</td>\n",
              "      <td>The participants introduced themselves and the...</td>\n",
              "      <td>Or You have to draw uh push hard on the pen or...</td>\n",
              "    </tr>\n",
              "    <tr>\n",
              "      <th>4</th>\n",
              "      <td>Morning. Yep. My name's Frank. Thank you. Hmm,...</td>\n",
              "      <td>The project manager introduced himself to the ...</td>\n",
              "      <td>Can't say I paid much attention to it, but Oh ...</td>\n",
              "    </tr>\n",
              "  </tbody>\n",
              "</table>\n",
              "</div>"
            ],
            "text/plain": [
              "                                              inputs  ...                                        ext_summary\n",
              "0  Thanks. Yeah, that's probably a better one, to...  ...  Yeah, that's probably a better one, to discuss...\n",
              "1  Good afternoon. So Hello. No problem. Okay. Th...  ...  In this meeting we will discuss our final desi...\n",
              "2  Okay. Everybody found his place again? Yeah? T...  ...  Uh now we're going um into the functional desi...\n",
              "3  Hi. Oh. Good morning. I'm Juergen Toffs. I'm t...  ...  Or You have to draw uh push hard on the pen or...\n",
              "4  Morning. Yep. My name's Frank. Thank you. Hmm,...  ...  Can't say I paid much attention to it, but Oh ...\n",
              "\n",
              "[5 rows x 3 columns]"
            ]
          },
          "metadata": {
            "tags": []
          },
          "execution_count": 120
        }
      ]
    },
    {
      "cell_type": "markdown",
      "metadata": {
        "id": "I0fZ2fVKEf-c"
      },
      "source": [
        "## EXTRACTIVE TO ABSTRACTIVE"
      ]
    },
    {
      "cell_type": "markdown",
      "metadata": {
        "id": "bSnDiccnvKJw"
      },
      "source": [
        "GPT2 Decoder"
      ]
    },
    {
      "cell_type": "code",
      "metadata": {
        "colab": {
          "base_uri": "https://localhost:8080/"
        },
        "id": "l5wvRbcsvv6u",
        "outputId": "159c0aba-1c7c-4126-8676-d9f90c43a401"
      },
      "source": [
        "import tensorflow as tf\n",
        "from transformers import TFGPT2LMHeadModel, GPT2Tokenizer\n",
        "\n",
        "tokenizer = GPT2Tokenizer.from_pretrained(\"gpt2\")\n",
        "\n",
        "# add the EOS token as PAD token to avoid warnings\n",
        "modelgpt2 = TFGPT2LMHeadModel.from_pretrained(\"gpt2\", pad_token_id=tokenizer.eos_token_id)"
      ],
      "execution_count": 132,
      "outputs": [
        {
          "output_type": "stream",
          "text": [
            "All model checkpoint layers were used when initializing TFGPT2LMHeadModel.\n",
            "\n",
            "All the layers of TFGPT2LMHeadModel were initialized from the model checkpoint at gpt2.\n",
            "If your task is similar to the task the model of the checkpoint was trained on, you can already use TFGPT2LMHeadModel for predictions without further training.\n"
          ],
          "name": "stderr"
        }
      ]
    },
    {
      "cell_type": "code",
      "metadata": {
        "colab": {
          "base_uri": "https://localhost:8080/"
        },
        "id": "0KNdTmgfv1h1",
        "outputId": "9e94471e-a345-4933-c834-e379095252f4"
      },
      "source": [
        "abs_summary = []\n",
        "\n",
        "for index, row in tqdm(test.iterrows()):\n",
        "    input = row['ext_summary']\n",
        "    print(input)\n",
        "    input_ids = tokenizer.encode(input, return_tensors='tf')\n",
        "    summ = modelgpt2.generate(input_ids, max_length=300)\n",
        "    summ_decoded = tokenizer.decode(summ[0], skip_special_tokens=True)\n",
        "    abs_summary.append(summ_decoded)\n",
        "\n",
        "test['abs_summary'] = abs_summary"
      ],
      "execution_count": null,
      "outputs": [
        {
          "output_type": "stream",
          "text": [
            "\n",
            "\n",
            "0it [00:00, ?it/s]\u001b[A\u001b[A"
          ],
          "name": "stderr"
        },
        {
          "output_type": "stream",
          "text": [
            "Yeah, that's probably a better one, to discuss it straight away. And it says that I think it said the cost of that isn't too much. Maybe the spongy feel is something we could think about, um.\n"
          ],
          "name": "stdout"
        },
        {
          "output_type": "stream",
          "text": [
            "\n",
            "\n",
            "1it [00:51, 51.84s/it]\u001b[A\u001b[A"
          ],
          "name": "stderr"
        },
        {
          "output_type": "stream",
          "text": [
            "In this meeting we will discuss our final design. Were the means sufficient for the tasks uh we had to do? You can you can change markets where by changing the front covers.\n"
          ],
          "name": "stdout"
        },
        {
          "output_type": "stream",
          "text": [
            "\n",
            "\n",
            "2it [01:43, 51.82s/it]\u001b[A\u001b[A"
          ],
          "name": "stderr"
        },
        {
          "output_type": "stream",
          "text": [
            "Uh now we're going um into the functional design. Um this is uh a bit pity for the Marketing uh Expert.\n"
          ],
          "name": "stdout"
        },
        {
          "output_type": "stream",
          "text": [
            "\n",
            "\n",
            "3it [02:35, 51.87s/it]\u001b[A\u001b[A"
          ],
          "name": "stderr"
        },
        {
          "output_type": "stream",
          "text": [
            "Or You have to draw uh push hard on the pen or uh Oh. And they have uh Yeah, that's uh very important uh for them. But if you say uh is it uh uh one way or multi-purpose, that's a Why?\n"
          ],
          "name": "stdout"
        },
        {
          "output_type": "stream",
          "text": [
            "\n",
            "\n",
            "4it [03:27, 51.86s/it]\u001b[A\u001b[A"
          ],
          "name": "stderr"
        },
        {
          "output_type": "stream",
          "text": [
            "Can't say I paid much attention to it, but Oh yeah. Because this is going a lot better than uh I did. Um I will put the minutes from this meeting uh in our project folder.\n"
          ],
          "name": "stdout"
        },
        {
          "output_type": "stream",
          "text": [
            "\n",
            "\n",
            "5it [04:19, 51.96s/it]\u001b[A\u001b[A"
          ],
          "name": "stderr"
        },
        {
          "output_type": "stream",
          "text": [
            "Um, right our agenda for today, do you want us to give you a second? And so this is what I had as the basic idea of what we wanna do. So what the concept is to have a flip-top model.\n"
          ],
          "name": "stdout"
        },
        {
          "output_type": "stream",
          "text": [
            "\n",
            "\n",
            "6it [05:11, 51.91s/it]\u001b[A\u001b[A"
          ],
          "name": "stderr"
        },
        {
          "output_type": "stream",
          "text": [
            "A minute please, my uh laptop is uh oh, there it is, thank you. Opens up is too difficult or uh Break it, I don't get Oh so Yeah. Uh, I think the idea uh about uh touch screen um is very good.\n"
          ],
          "name": "stdout"
        },
        {
          "output_type": "stream",
          "text": [
            "\n",
            "\n",
            "7it [06:03, 51.93s/it]\u001b[A\u001b[A"
          ],
          "name": "stderr"
        },
        {
          "output_type": "stream",
          "text": [
            "Um, Project Manager, I have something to tell you. And um, things like teletext, put them in the menu. But you still have the problem about uh the television itself.\n"
          ],
          "name": "stdout"
        },
        {
          "output_type": "stream",
          "text": [
            "\n",
            "\n",
            "8it [06:55, 51.86s/it]\u001b[A\u001b[A"
          ],
          "name": "stderr"
        },
        {
          "output_type": "stream",
          "text": [
            "Do you want to replace existing file, no. This this is a yes, this is our presentation of the prototype. No, I just We got the logo off the web browser.\n"
          ],
          "name": "stdout"
        },
        {
          "output_type": "stream",
          "text": [
            "\n",
            "\n",
            "9it [07:46, 51.87s/it]\u001b[A\u001b[A"
          ],
          "name": "stderr"
        },
        {
          "output_type": "stream",
          "text": [
            "The industrial designer um presented her uh thoughts on the issue. Okay you're the designer, of course you wanna give it a one. This is a model of the remote control which we are going to build.\n"
          ],
          "name": "stdout"
        },
        {
          "output_type": "stream",
          "text": [
            "\n",
            "\n",
            "10it [08:38, 51.81s/it]\u001b[A\u001b[A"
          ],
          "name": "stderr"
        },
        {
          "output_type": "stream",
          "text": [
            "It's really up the the design that we're gonna use. Uh one push on the button uh you get uh uh small uh subtitles. So I believe one battery uh is just enough.\n"
          ],
          "name": "stdout"
        },
        {
          "output_type": "stream",
          "text": [
            "\n",
            "\n",
            "11it [09:30, 51.86s/it]\u001b[A\u001b[A"
          ],
          "name": "stderr"
        },
        {
          "output_type": "stream",
          "text": [
            "Now the function of a remote is to send messages to the television. Um and my findings from this is that, you know, small is beautiful. Uh yeah uh the product can be de delivered into different cases.\n"
          ],
          "name": "stdout"
        },
        {
          "output_type": "stream",
          "text": [
            "\n",
            "\n",
            "12it [10:22, 51.77s/it]\u001b[A\u001b[A"
          ],
          "name": "stderr"
        },
        {
          "output_type": "stream",
          "text": [
            "And my role is to design uh a television remote control. Okay, I think I have enough to think about 'til our next meeting. Now, of course, the other thing to think there is maybe the design.\n"
          ],
          "name": "stdout"
        },
        {
          "output_type": "stream",
          "text": [
            "\n",
            "\n",
            "13it [11:13, 51.76s/it]\u001b[A\u001b[A"
          ],
          "name": "stderr"
        },
        {
          "output_type": "stream",
          "text": [
            "Um, once again I'm uh gonna take minutes. Because I think it will Oh, five minutes from to finish meeting. Yeah, the they are big and clear.. Yeah, but but the teletext button.\n"
          ],
          "name": "stdout"
        },
        {
          "output_type": "stream",
          "text": [
            "\n",
            "\n",
            "14it [12:05, 51.82s/it]\u001b[A\u001b[A"
          ],
          "name": "stderr"
        },
        {
          "output_type": "stream",
          "text": [
            "It wo it won't shout out I'm here or something. There are innovations in that that people don't really want. I think the agenda one was where the um price was, wasn't it?\n"
          ],
          "name": "stdout"
        },
        {
          "output_type": "stream",
          "text": [
            "\n",
            "\n",
            "15it [12:57, 51.74s/it]\u001b[A\u001b[A"
          ],
          "name": "stderr"
        },
        {
          "output_type": "stream",
          "text": [
            "Uh, maybe you can guess what I'm trying to make? So, it'd still be yeah, we had to buy one. Yeah, my grandad's actually better than me at using teletext, so.\n"
          ],
          "name": "stdout"
        },
        {
          "output_type": "stream",
          "text": [
            "\n",
            "\n",
            "16it [13:49, 51.74s/it]\u001b[A\u001b[A"
          ],
          "name": "stderr"
        },
        {
          "output_type": "stream",
          "text": [
            "Um I'm gonna go for the dog, and I'm gonna draw one badly as well. Maybe we could um have better instructions with the remote. Um well we've got five minutes before the end of the meeting.\n"
          ],
          "name": "stdout"
        },
        {
          "output_type": "stream",
          "text": [
            "\n",
            "\n",
            "17it [14:41, 51.80s/it]\u001b[A\u001b[A"
          ],
          "name": "stderr"
        },
        {
          "output_type": "stream",
          "text": [
            "Uh okay, can can I at this point interject um something? So these are the two things we should come up wit with. And that you you say that won't add too much to the budget?\n"
          ],
          "name": "stdout"
        },
        {
          "output_type": "stream",
          "text": [
            "\n",
            "\n",
            "18it [15:32, 51.69s/it]\u001b[A\u001b[A"
          ],
          "name": "stderr"
        },
        {
          "output_type": "stream",
          "text": [
            "It's twelve point f Another question is like sorry. Um, findings, I've got my nice little picture there. Be interesting to see what our design people make of that.\n"
          ],
          "name": "stdout"
        },
        {
          "output_type": "stream",
          "text": [
            "\n",
            "\n",
            "19it [16:23, 51.59s/it]\u001b[A\u001b[A"
          ],
          "name": "stderr"
        },
        {
          "output_type": "stream",
          "text": [
            "Okay, so we've got uh so we've got new project requirements. I'll just um I'll grab the wire out the back of this one. So with that we'd kind of by-pass any problems with Yeah.\n"
          ],
          "name": "stdout"
        },
        {
          "output_type": "stream",
          "text": [
            "\n",
            "\n",
            "20it [17:15, 51.78s/it]\n"
          ],
          "name": "stderr"
        }
      ]
    },
    {
      "cell_type": "markdown",
      "metadata": {
        "id": "9ZCyNV5Zco1v"
      },
      "source": [
        "BEAM"
      ]
    },
    {
      "cell_type": "code",
      "metadata": {
        "colab": {
          "base_uri": "https://localhost:8080/"
        },
        "id": "FXte8_qewVTP",
        "outputId": "da68a9b3-e9d5-4253-e794-5bb892e5be95"
      },
      "source": [
        "abs_summary = []\n",
        "\n",
        "for index, row in tqdm(test.iterrows()):\n",
        "    input = row['ext_summary']\n",
        "    print(input)\n",
        "    input_ids = tokenizer.encode(input, return_tensors='tf')\n",
        "\n",
        "    beam_output = modelgpt2.generate(\n",
        "        input_ids, \n",
        "        max_length=300, \n",
        "        num_beams=5, \n",
        "        early_stopping=True\n",
        "    )\n",
        "\n",
        "    summ_decoded =tokenizer.decode(beam_output[0], skip_special_tokens=True)\n",
        "    abs_summary.append(summ_decoded)\n",
        "\n",
        "test['beam_abs_summary'] = abs_summary"
      ],
      "execution_count": null,
      "outputs": [
        {
          "output_type": "stream",
          "text": [
            "\n",
            "\n",
            "0it [00:00, ?it/s]\u001b[A\u001b[A"
          ],
          "name": "stderr"
        },
        {
          "output_type": "stream",
          "text": [
            "Yeah, that's probably a better one, to discuss it straight away. And it says that I think it said the cost of that isn't too much. Maybe the spongy feel is something we could think about, um.\n"
          ],
          "name": "stdout"
        },
        {
          "output_type": "stream",
          "text": [
            "\n",
            "\n",
            "1it [02:39, 159.13s/it]\u001b[A\u001b[A"
          ],
          "name": "stderr"
        },
        {
          "output_type": "stream",
          "text": [
            "In this meeting we will discuss our final design. Were the means sufficient for the tasks uh we had to do? You can you can change markets where by changing the front covers.\n"
          ],
          "name": "stdout"
        },
        {
          "output_type": "stream",
          "text": [
            "\n",
            "\n",
            "2it [05:19, 159.56s/it]\u001b[A\u001b[A"
          ],
          "name": "stderr"
        },
        {
          "output_type": "stream",
          "text": [
            "Uh now we're going um into the functional design. Um this is uh a bit pity for the Marketing uh Expert.\n"
          ],
          "name": "stdout"
        },
        {
          "output_type": "stream",
          "text": [
            "\n",
            "\n",
            "3it [07:59, 159.55s/it]\u001b[A\u001b[A"
          ],
          "name": "stderr"
        },
        {
          "output_type": "stream",
          "text": [
            "Or You have to draw uh push hard on the pen or uh Oh. And they have uh Yeah, that's uh very important uh for them. But if you say uh is it uh uh one way or multi-purpose, that's a Why?\n"
          ],
          "name": "stdout"
        },
        {
          "output_type": "stream",
          "text": [
            "\n",
            "\n",
            "4it [10:38, 159.51s/it]\u001b[A\u001b[A"
          ],
          "name": "stderr"
        },
        {
          "output_type": "stream",
          "text": [
            "Can't say I paid much attention to it, but Oh yeah. Because this is going a lot better than uh I did. Um I will put the minutes from this meeting uh in our project folder.\n"
          ],
          "name": "stdout"
        },
        {
          "output_type": "stream",
          "text": [
            "\n",
            "\n",
            "5it [13:18, 159.53s/it]\u001b[A\u001b[A"
          ],
          "name": "stderr"
        },
        {
          "output_type": "stream",
          "text": [
            "Um, right our agenda for today, do you want us to give you a second? And so this is what I had as the basic idea of what we wanna do. So what the concept is to have a flip-top model.\n"
          ],
          "name": "stdout"
        },
        {
          "output_type": "stream",
          "text": [
            "\n",
            "\n",
            "6it [15:58, 159.78s/it]\u001b[A\u001b[A"
          ],
          "name": "stderr"
        },
        {
          "output_type": "stream",
          "text": [
            "A minute please, my uh laptop is uh oh, there it is, thank you. Opens up is too difficult or uh Break it, I don't get Oh so Yeah. Uh, I think the idea uh about uh touch screen um is very good.\n"
          ],
          "name": "stdout"
        },
        {
          "output_type": "stream",
          "text": [
            "\n",
            "\n",
            "7it [18:39, 160.12s/it]\u001b[A\u001b[A"
          ],
          "name": "stderr"
        },
        {
          "output_type": "stream",
          "text": [
            "Um, Project Manager, I have something to tell you. And um, things like teletext, put them in the menu. But you still have the problem about uh the television itself.\n"
          ],
          "name": "stdout"
        },
        {
          "output_type": "stream",
          "text": [
            "\n",
            "\n",
            "8it [21:19, 159.94s/it]\u001b[A\u001b[A"
          ],
          "name": "stderr"
        },
        {
          "output_type": "stream",
          "text": [
            "Do you want to replace existing file, no. This this is a yes, this is our presentation of the prototype. No, I just We got the logo off the web browser.\n"
          ],
          "name": "stdout"
        },
        {
          "output_type": "stream",
          "text": [
            "\n",
            "\n",
            "9it [23:57, 159.60s/it]\u001b[A\u001b[A"
          ],
          "name": "stderr"
        },
        {
          "output_type": "stream",
          "text": [
            "The industrial designer um presented her uh thoughts on the issue. Okay you're the designer, of course you wanna give it a one. This is a model of the remote control which we are going to build.\n"
          ],
          "name": "stdout"
        },
        {
          "output_type": "stream",
          "text": [
            "\n",
            "\n",
            "10it [26:36, 159.37s/it]\u001b[A\u001b[A"
          ],
          "name": "stderr"
        },
        {
          "output_type": "stream",
          "text": [
            "It's really up the the design that we're gonna use. Uh one push on the button uh you get uh uh small uh subtitles. So I believe one battery uh is just enough.\n"
          ],
          "name": "stdout"
        },
        {
          "output_type": "stream",
          "text": [
            "\n",
            "\n",
            "11it [29:18, 159.98s/it]\u001b[A\u001b[A"
          ],
          "name": "stderr"
        },
        {
          "output_type": "stream",
          "text": [
            "Now the function of a remote is to send messages to the television. Um and my findings from this is that, you know, small is beautiful. Uh yeah uh the product can be de delivered into different cases.\n"
          ],
          "name": "stdout"
        },
        {
          "output_type": "stream",
          "text": [
            "\n",
            "\n",
            "12it [31:56, 159.61s/it]\u001b[A\u001b[A"
          ],
          "name": "stderr"
        },
        {
          "output_type": "stream",
          "text": [
            "And my role is to design uh a television remote control. Okay, I think I have enough to think about 'til our next meeting. Now, of course, the other thing to think there is maybe the design.\n"
          ],
          "name": "stdout"
        },
        {
          "output_type": "stream",
          "text": [
            "\n",
            "\n",
            "13it [34:36, 159.51s/it]\u001b[A\u001b[A"
          ],
          "name": "stderr"
        },
        {
          "output_type": "stream",
          "text": [
            "Um, once again I'm uh gonna take minutes. Because I think it will Oh, five minutes from to finish meeting. Yeah, the they are big and clear.. Yeah, but but the teletext button.\n"
          ],
          "name": "stdout"
        },
        {
          "output_type": "stream",
          "text": [
            "\n",
            "\n",
            "14it [37:15, 159.35s/it]\u001b[A\u001b[A"
          ],
          "name": "stderr"
        },
        {
          "output_type": "stream",
          "text": [
            "It wo it won't shout out I'm here or something. There are innovations in that that people don't really want. I think the agenda one was where the um price was, wasn't it?\n"
          ],
          "name": "stdout"
        }
      ]
    },
    {
      "cell_type": "code",
      "metadata": {
        "colab": {
          "base_uri": "https://localhost:8080/"
        },
        "id": "BLz4BTW8wV02",
        "outputId": "8dd4f82a-60ad-4088-cd16-568b9acf51a9"
      },
      "source": [
        "test.head()"
      ],
      "execution_count": null,
      "outputs": [
        {
          "output_type": "execute_result",
          "data": {
            "text/plain": [
              "1051"
            ]
          },
          "metadata": {
            "tags": []
          },
          "execution_count": 81
        }
      ]
    },
    {
      "cell_type": "markdown",
      "metadata": {
        "id": "LYUMkO5F-J-X"
      },
      "source": [
        "TOP P"
      ]
    },
    {
      "cell_type": "code",
      "metadata": {
        "colab": {
          "base_uri": "https://localhost:8080/"
        },
        "id": "er34eKqh-JbS",
        "outputId": "951525fb-bd98-49ce-b1cd-a3b0e9274bf7"
      },
      "source": [
        "abs_summary = []\n",
        "\n",
        "for index, row in tqdm(test.iterrows()):\n",
        "    input = row['ext_summary']\n",
        "    print(input)\n",
        "    input_ids = tokenizer.encode(input, return_tensors='tf')\n",
        "\n",
        "    # set seed to reproduce results. Feel free to change the seed though to get different results\n",
        "    tf.random.set_seed(0)\n",
        "    # deactivate top_k sampling and sample only from 92% most likely words\n",
        "    sample_output = modelgpt2.generate(\n",
        "        input_ids, \n",
        "        do_sample=True, \n",
        "        max_length=300, \n",
        "        top_p=0.92, \n",
        "        top_k=0\n",
        "    )\n",
        "    summ_decoded = tokenizer.decode(sample_output[0], skip_special_tokens=True)\n",
        "    abs_summary.append(summ_decoded)\n",
        "test['top_P_abs_summary'] = abs_summary"
      ],
      "execution_count": 135,
      "outputs": [
        {
          "output_type": "stream",
          "text": [
            "\n",
            "\n",
            "0it [00:00, ?it/s]\u001b[A\u001b[A"
          ],
          "name": "stderr"
        },
        {
          "output_type": "stream",
          "text": [
            "Yeah, that's probably a better one, to discuss it straight away. And it says that I think it said the cost of that isn't too much. Maybe the spongy feel is something we could think about, um.\n"
          ],
          "name": "stdout"
        },
        {
          "output_type": "stream",
          "text": [
            "\n",
            "\n",
            "1it [00:54, 54.29s/it]\u001b[A\u001b[A"
          ],
          "name": "stderr"
        },
        {
          "output_type": "stream",
          "text": [
            "In this meeting we will discuss our final design. Were the means sufficient for the tasks uh we had to do? You can you can change markets where by changing the front covers.\n"
          ],
          "name": "stdout"
        },
        {
          "output_type": "stream",
          "text": [
            "\n",
            "\n",
            "2it [01:27, 47.93s/it]\u001b[A\u001b[A"
          ],
          "name": "stderr"
        },
        {
          "output_type": "stream",
          "text": [
            "Uh now we're going um into the functional design. Um this is uh a bit pity for the Marketing uh Expert.\n"
          ],
          "name": "stdout"
        },
        {
          "output_type": "stream",
          "text": [
            "\n",
            "\n",
            "3it [02:25, 51.13s/it]\u001b[A\u001b[A"
          ],
          "name": "stderr"
        },
        {
          "output_type": "stream",
          "text": [
            "Or You have to draw uh push hard on the pen or uh Oh. And they have uh Yeah, that's uh very important uh for them. But if you say uh is it uh uh one way or multi-purpose, that's a Why?\n"
          ],
          "name": "stdout"
        },
        {
          "output_type": "stream",
          "text": [
            "\n",
            "\n",
            "4it [03:19, 49.92s/it]\n"
          ],
          "name": "stderr"
        }
      ]
    },
    {
      "cell_type": "code",
      "metadata": {
        "colab": {
          "base_uri": "https://localhost:8080/",
          "height": 244
        },
        "id": "7jBSQTDW-vHF",
        "outputId": "d139a874-e00b-4c1e-a1c9-ded20581d1db"
      },
      "source": [
        "test.head()"
      ],
      "execution_count": 136,
      "outputs": [
        {
          "output_type": "execute_result",
          "data": {
            "text/html": [
              "<div>\n",
              "<style scoped>\n",
              "    .dataframe tbody tr th:only-of-type {\n",
              "        vertical-align: middle;\n",
              "    }\n",
              "\n",
              "    .dataframe tbody tr th {\n",
              "        vertical-align: top;\n",
              "    }\n",
              "\n",
              "    .dataframe thead th {\n",
              "        text-align: right;\n",
              "    }\n",
              "</style>\n",
              "<table border=\"1\" class=\"dataframe\">\n",
              "  <thead>\n",
              "    <tr style=\"text-align: right;\">\n",
              "      <th></th>\n",
              "      <th>inputs</th>\n",
              "      <th>targets</th>\n",
              "      <th>ext_summary</th>\n",
              "      <th>top_P_abs_summary</th>\n",
              "    </tr>\n",
              "  </thead>\n",
              "  <tbody>\n",
              "    <tr>\n",
              "      <th>0</th>\n",
              "      <td>Thanks. Yeah, that's probably a better one, to...</td>\n",
              "      <td>The Project Manager reviewed the minutes from ...</td>\n",
              "      <td>Yeah, that's probably a better one, to discuss...</td>\n",
              "      <td>Yeah, that's probably a better one, to discuss...</td>\n",
              "    </tr>\n",
              "    <tr>\n",
              "      <th>1</th>\n",
              "      <td>Good afternoon. So Hello. No problem. Okay. Th...</td>\n",
              "      <td>In the detailed design meeting the team create...</td>\n",
              "      <td>In this meeting we will discuss our final desi...</td>\n",
              "      <td>In this meeting we will discuss our final desi...</td>\n",
              "    </tr>\n",
              "    <tr>\n",
              "      <th>2</th>\n",
              "      <td>Okay. Everybody found his place again? Yeah? T...</td>\n",
              "      <td>The project manager stated the agenda and the ...</td>\n",
              "      <td>Uh now we're going um into the functional desi...</td>\n",
              "      <td>Uh now we're going um into the functional desi...</td>\n",
              "    </tr>\n",
              "    <tr>\n",
              "      <th>3</th>\n",
              "      <td>Hi. Oh. Good morning. I'm Juergen Toffs. I'm t...</td>\n",
              "      <td>The participants introduced themselves and the...</td>\n",
              "      <td>Or You have to draw uh push hard on the pen or...</td>\n",
              "      <td>Or You have to draw uh push hard on the pen or...</td>\n",
              "    </tr>\n",
              "  </tbody>\n",
              "</table>\n",
              "</div>"
            ],
            "text/plain": [
              "                                              inputs  ...                                  top_P_abs_summary\n",
              "0  Thanks. Yeah, that's probably a better one, to...  ...  Yeah, that's probably a better one, to discuss...\n",
              "1  Good afternoon. So Hello. No problem. Okay. Th...  ...  In this meeting we will discuss our final desi...\n",
              "2  Okay. Everybody found his place again? Yeah? T...  ...  Uh now we're going um into the functional desi...\n",
              "3  Hi. Oh. Good morning. I'm Juergen Toffs. I'm t...  ...  Or You have to draw uh push hard on the pen or...\n",
              "\n",
              "[4 rows x 4 columns]"
            ]
          },
          "metadata": {
            "tags": []
          },
          "execution_count": 136
        }
      ]
    },
    {
      "cell_type": "markdown",
      "metadata": {
        "id": "5HvmxeiF-IGW"
      },
      "source": [
        "ROUGE"
      ]
    },
    {
      "cell_type": "code",
      "metadata": {
        "colab": {
          "base_uri": "https://localhost:8080/"
        },
        "id": "brxNWrrg6v6G",
        "outputId": "1e48e8ff-8d52-4c2f-ccac-c2cc88a970c5"
      },
      "source": [
        "!pip install rouge-score\n",
        "from rouge_score import rouge_scorer"
      ],
      "execution_count": 137,
      "outputs": [
        {
          "output_type": "stream",
          "text": [
            "Requirement already satisfied: rouge-score in /usr/local/lib/python3.6/dist-packages (0.0.4)\n",
            "Requirement already satisfied: numpy in /usr/local/lib/python3.6/dist-packages (from rouge-score) (1.18.5)\n",
            "Requirement already satisfied: nltk in /usr/local/lib/python3.6/dist-packages (from rouge-score) (3.2.5)\n",
            "Requirement already satisfied: absl-py in /usr/local/lib/python3.6/dist-packages (from rouge-score) (0.10.0)\n",
            "Requirement already satisfied: six>=1.14.0 in /usr/local/lib/python3.6/dist-packages (from rouge-score) (1.15.0)\n"
          ],
          "name": "stdout"
        }
      ]
    },
    {
      "cell_type": "code",
      "metadata": {
        "id": "2wddIBwt8ofR"
      },
      "source": [
        ""
      ],
      "execution_count": 137,
      "outputs": []
    },
    {
      "cell_type": "code",
      "metadata": {
        "id": "ggsTtYgH7Znq"
      },
      "source": [
        "def rogue_sc(b, a):\n",
        "    scorer = rouge_scorer.RougeScorer(['rouge1', 'rouge2'], use_stemmer=True)\n",
        "    scores = scorer.score(b,a)\n",
        "    # print(scores)\n",
        "    return scores"
      ],
      "execution_count": 139,
      "outputs": []
    },
    {
      "cell_type": "code",
      "metadata": {
        "colab": {
          "base_uri": "https://localhost:8080/",
          "height": 710
        },
        "id": "pZ3KI-Mh9Dri",
        "outputId": "5b4c1ea4-8443-400e-cc8b-be8b6eb7d8e7"
      },
      "source": [
        "import numpy as np\n",
        "\n",
        "rouge1 = []\n",
        "rouge2 = []\n",
        "# word_capt = []\n",
        "for index, row in test.iterrows():\n",
        "    rouge1.append(rogue_sc(row['targets'], row['top_P_abs_summary'])['rouge1'][1])\n",
        "    rouge2.append(rogue_sc(row['targets'], row['top_P_abs_summary'])['rouge2'][1])\n",
        "    # word_capt.append(rogue_sc(row['targets'], row['Summary annotated'])['rouge1'][1])\n",
        "print(\"------ top_P_abs_summary-------\")\n",
        "print(\"Average Rouge1 Score: \", 100*np.average(np.array(rouge1)))\n",
        "print(\"Average Rouge2 Score: \", 100*np.average(np.array(rouge2)))\n",
        "\n",
        "for index, row in test.iterrows():\n",
        "    rouge1.append(rogue_sc(row['targets'], row['ext_summary'])['rouge1'][1])\n",
        "    rouge2.append(rogue_sc(row['targets'], row['ext_summary'])['rouge2'][1])\n",
        "    # word_capt.append(rogue_sc(row['targets'], row['Summary annotated'])['rouge1'][1])\n",
        "print(\"------ Extractive_summary-------\")\n",
        "print(\"Average Rouge1 Score: \", 100*np.average(np.array(rouge1)))\n",
        "print(\"Average Rouge2 Score: \", 100*np.average(np.array(rouge2)))\n",
        "\n",
        "\n",
        "for index, row in test.iterrows():\n",
        "    rouge1.append(rogue_sc(row['targets'], row['beam_abs_summary'])['rouge1'][1])\n",
        "    rouge2.append(rogue_sc(row['targets'], row['beam_abs_summary'])['rouge2'][1])\n",
        "    # word_capt.append(rogue_sc(row['targets'], row['Summary annotated'])['rouge1'][1])\n",
        "print(\"------ Beams_summary-------\")\n",
        "print(\"Average Rouge1 Score: \", 100*np.average(np.array(rouge1)))\n",
        "print(\"Average Rouge2 Score: \", 100*np.average(np.array(rouge2)))\n",
        "\n",
        "\n",
        "for index, row in test.iterrows():\n",
        "    rouge1.append(rogue_sc(row['targets'], row['abs_summary'])['rouge1'][1])\n",
        "    rouge2.append(rogue_sc(row['targets'], row['abs_summary'])['rouge2'][1])\n",
        "    # word_capt.append(rogue_sc(row['targets'], row['Summary annotated'])['rouge1'][1])\n",
        "print(\"------ Beams_summary-------\")\n",
        "print(\"Average Rouge1 Score: \", 100*np.average(np.array(rouge1)))\n",
        "print(\"Average Rouge2 Score: \", 100*np.average(np.array(rouge2)))\n"
      ],
      "execution_count": 141,
      "outputs": [
        {
          "output_type": "stream",
          "text": [
            "------ top_P_abs_summary-------\n",
            "Average Rouge1 Score:  26.410062309657995\n",
            "Average Rouge2 Score:  2.0596062026812185\n",
            "------ Extractive_summary-------\n",
            "Average Rouge1 Score:  16.323212389587052\n",
            "Average Rouge2 Score:  1.2723157182016995\n"
          ],
          "name": "stdout"
        },
        {
          "output_type": "error",
          "ename": "KeyError",
          "evalue": "ignored",
          "traceback": [
            "\u001b[0;31m---------------------------------------------------------------------------\u001b[0m",
            "\u001b[0;31mKeyError\u001b[0m                                  Traceback (most recent call last)",
            "\u001b[0;32m/usr/local/lib/python3.6/dist-packages/pandas/core/indexes/base.py\u001b[0m in \u001b[0;36mget_loc\u001b[0;34m(self, key, method, tolerance)\u001b[0m\n\u001b[1;32m   2894\u001b[0m             \u001b[0;32mtry\u001b[0m\u001b[0;34m:\u001b[0m\u001b[0;34m\u001b[0m\u001b[0;34m\u001b[0m\u001b[0m\n\u001b[0;32m-> 2895\u001b[0;31m                 \u001b[0;32mreturn\u001b[0m \u001b[0mself\u001b[0m\u001b[0;34m.\u001b[0m\u001b[0m_engine\u001b[0m\u001b[0;34m.\u001b[0m\u001b[0mget_loc\u001b[0m\u001b[0;34m(\u001b[0m\u001b[0mcasted_key\u001b[0m\u001b[0;34m)\u001b[0m\u001b[0;34m\u001b[0m\u001b[0;34m\u001b[0m\u001b[0m\n\u001b[0m\u001b[1;32m   2896\u001b[0m             \u001b[0;32mexcept\u001b[0m \u001b[0mKeyError\u001b[0m \u001b[0;32mas\u001b[0m \u001b[0merr\u001b[0m\u001b[0;34m:\u001b[0m\u001b[0;34m\u001b[0m\u001b[0;34m\u001b[0m\u001b[0m\n",
            "\u001b[0;32mpandas/_libs/index.pyx\u001b[0m in \u001b[0;36mpandas._libs.index.IndexEngine.get_loc\u001b[0;34m()\u001b[0m\n",
            "\u001b[0;32mpandas/_libs/index.pyx\u001b[0m in \u001b[0;36mpandas._libs.index.IndexEngine.get_loc\u001b[0;34m()\u001b[0m\n",
            "\u001b[0;32mpandas/_libs/hashtable_class_helper.pxi\u001b[0m in \u001b[0;36mpandas._libs.hashtable.PyObjectHashTable.get_item\u001b[0;34m()\u001b[0m\n",
            "\u001b[0;32mpandas/_libs/hashtable_class_helper.pxi\u001b[0m in \u001b[0;36mpandas._libs.hashtable.PyObjectHashTable.get_item\u001b[0;34m()\u001b[0m\n",
            "\u001b[0;31mKeyError\u001b[0m: 'beam_abs_summary'",
            "\nThe above exception was the direct cause of the following exception:\n",
            "\u001b[0;31mKeyError\u001b[0m                                  Traceback (most recent call last)",
            "\u001b[0;32m<ipython-input-141-dc4819dea65c>\u001b[0m in \u001b[0;36m<module>\u001b[0;34m()\u001b[0m\n\u001b[1;32m     22\u001b[0m \u001b[0;34m\u001b[0m\u001b[0m\n\u001b[1;32m     23\u001b[0m \u001b[0;32mfor\u001b[0m \u001b[0mindex\u001b[0m\u001b[0;34m,\u001b[0m \u001b[0mrow\u001b[0m \u001b[0;32min\u001b[0m \u001b[0mtest\u001b[0m\u001b[0;34m.\u001b[0m\u001b[0miterrows\u001b[0m\u001b[0;34m(\u001b[0m\u001b[0;34m)\u001b[0m\u001b[0;34m:\u001b[0m\u001b[0;34m\u001b[0m\u001b[0;34m\u001b[0m\u001b[0m\n\u001b[0;32m---> 24\u001b[0;31m     \u001b[0mrouge1\u001b[0m\u001b[0;34m.\u001b[0m\u001b[0mappend\u001b[0m\u001b[0;34m(\u001b[0m\u001b[0mrogue_sc\u001b[0m\u001b[0;34m(\u001b[0m\u001b[0mrow\u001b[0m\u001b[0;34m[\u001b[0m\u001b[0;34m'targets'\u001b[0m\u001b[0;34m]\u001b[0m\u001b[0;34m,\u001b[0m \u001b[0mrow\u001b[0m\u001b[0;34m[\u001b[0m\u001b[0;34m'beam_abs_summary'\u001b[0m\u001b[0;34m]\u001b[0m\u001b[0;34m)\u001b[0m\u001b[0;34m[\u001b[0m\u001b[0;34m'rouge1'\u001b[0m\u001b[0;34m]\u001b[0m\u001b[0;34m[\u001b[0m\u001b[0;36m1\u001b[0m\u001b[0;34m]\u001b[0m\u001b[0;34m)\u001b[0m\u001b[0;34m\u001b[0m\u001b[0;34m\u001b[0m\u001b[0m\n\u001b[0m\u001b[1;32m     25\u001b[0m     \u001b[0mrouge2\u001b[0m\u001b[0;34m.\u001b[0m\u001b[0mappend\u001b[0m\u001b[0;34m(\u001b[0m\u001b[0mrogue_sc\u001b[0m\u001b[0;34m(\u001b[0m\u001b[0mrow\u001b[0m\u001b[0;34m[\u001b[0m\u001b[0;34m'targets'\u001b[0m\u001b[0;34m]\u001b[0m\u001b[0;34m,\u001b[0m \u001b[0mrow\u001b[0m\u001b[0;34m[\u001b[0m\u001b[0;34m'beam_abs_summary'\u001b[0m\u001b[0;34m]\u001b[0m\u001b[0;34m)\u001b[0m\u001b[0;34m[\u001b[0m\u001b[0;34m'rouge2'\u001b[0m\u001b[0;34m]\u001b[0m\u001b[0;34m[\u001b[0m\u001b[0;36m1\u001b[0m\u001b[0;34m]\u001b[0m\u001b[0;34m)\u001b[0m\u001b[0;34m\u001b[0m\u001b[0;34m\u001b[0m\u001b[0m\n\u001b[1;32m     26\u001b[0m     \u001b[0;31m# word_capt.append(rogue_sc(row['targets'], row['Summary annotated'])['rouge1'][1])\u001b[0m\u001b[0;34m\u001b[0m\u001b[0;34m\u001b[0m\u001b[0;34m\u001b[0m\u001b[0m\n",
            "\u001b[0;32m/usr/local/lib/python3.6/dist-packages/pandas/core/series.py\u001b[0m in \u001b[0;36m__getitem__\u001b[0;34m(self, key)\u001b[0m\n\u001b[1;32m    880\u001b[0m \u001b[0;34m\u001b[0m\u001b[0m\n\u001b[1;32m    881\u001b[0m         \u001b[0;32melif\u001b[0m \u001b[0mkey_is_scalar\u001b[0m\u001b[0;34m:\u001b[0m\u001b[0;34m\u001b[0m\u001b[0;34m\u001b[0m\u001b[0m\n\u001b[0;32m--> 882\u001b[0;31m             \u001b[0;32mreturn\u001b[0m \u001b[0mself\u001b[0m\u001b[0;34m.\u001b[0m\u001b[0m_get_value\u001b[0m\u001b[0;34m(\u001b[0m\u001b[0mkey\u001b[0m\u001b[0;34m)\u001b[0m\u001b[0;34m\u001b[0m\u001b[0;34m\u001b[0m\u001b[0m\n\u001b[0m\u001b[1;32m    883\u001b[0m \u001b[0;34m\u001b[0m\u001b[0m\n\u001b[1;32m    884\u001b[0m         \u001b[0;32mif\u001b[0m \u001b[0mis_hashable\u001b[0m\u001b[0;34m(\u001b[0m\u001b[0mkey\u001b[0m\u001b[0;34m)\u001b[0m\u001b[0;34m:\u001b[0m\u001b[0;34m\u001b[0m\u001b[0;34m\u001b[0m\u001b[0m\n",
            "\u001b[0;32m/usr/local/lib/python3.6/dist-packages/pandas/core/series.py\u001b[0m in \u001b[0;36m_get_value\u001b[0;34m(self, label, takeable)\u001b[0m\n\u001b[1;32m    987\u001b[0m \u001b[0;34m\u001b[0m\u001b[0m\n\u001b[1;32m    988\u001b[0m         \u001b[0;31m# Similar to Index.get_value, but we do not fall back to positional\u001b[0m\u001b[0;34m\u001b[0m\u001b[0;34m\u001b[0m\u001b[0;34m\u001b[0m\u001b[0m\n\u001b[0;32m--> 989\u001b[0;31m         \u001b[0mloc\u001b[0m \u001b[0;34m=\u001b[0m \u001b[0mself\u001b[0m\u001b[0;34m.\u001b[0m\u001b[0mindex\u001b[0m\u001b[0;34m.\u001b[0m\u001b[0mget_loc\u001b[0m\u001b[0;34m(\u001b[0m\u001b[0mlabel\u001b[0m\u001b[0;34m)\u001b[0m\u001b[0;34m\u001b[0m\u001b[0;34m\u001b[0m\u001b[0m\n\u001b[0m\u001b[1;32m    990\u001b[0m         \u001b[0;32mreturn\u001b[0m \u001b[0mself\u001b[0m\u001b[0;34m.\u001b[0m\u001b[0mindex\u001b[0m\u001b[0;34m.\u001b[0m\u001b[0m_get_values_for_loc\u001b[0m\u001b[0;34m(\u001b[0m\u001b[0mself\u001b[0m\u001b[0;34m,\u001b[0m \u001b[0mloc\u001b[0m\u001b[0;34m,\u001b[0m \u001b[0mlabel\u001b[0m\u001b[0;34m)\u001b[0m\u001b[0;34m\u001b[0m\u001b[0;34m\u001b[0m\u001b[0m\n\u001b[1;32m    991\u001b[0m \u001b[0;34m\u001b[0m\u001b[0m\n",
            "\u001b[0;32m/usr/local/lib/python3.6/dist-packages/pandas/core/indexes/base.py\u001b[0m in \u001b[0;36mget_loc\u001b[0;34m(self, key, method, tolerance)\u001b[0m\n\u001b[1;32m   2895\u001b[0m                 \u001b[0;32mreturn\u001b[0m \u001b[0mself\u001b[0m\u001b[0;34m.\u001b[0m\u001b[0m_engine\u001b[0m\u001b[0;34m.\u001b[0m\u001b[0mget_loc\u001b[0m\u001b[0;34m(\u001b[0m\u001b[0mcasted_key\u001b[0m\u001b[0;34m)\u001b[0m\u001b[0;34m\u001b[0m\u001b[0;34m\u001b[0m\u001b[0m\n\u001b[1;32m   2896\u001b[0m             \u001b[0;32mexcept\u001b[0m \u001b[0mKeyError\u001b[0m \u001b[0;32mas\u001b[0m \u001b[0merr\u001b[0m\u001b[0;34m:\u001b[0m\u001b[0;34m\u001b[0m\u001b[0;34m\u001b[0m\u001b[0m\n\u001b[0;32m-> 2897\u001b[0;31m                 \u001b[0;32mraise\u001b[0m \u001b[0mKeyError\u001b[0m\u001b[0;34m(\u001b[0m\u001b[0mkey\u001b[0m\u001b[0;34m)\u001b[0m \u001b[0;32mfrom\u001b[0m \u001b[0merr\u001b[0m\u001b[0;34m\u001b[0m\u001b[0;34m\u001b[0m\u001b[0m\n\u001b[0m\u001b[1;32m   2898\u001b[0m \u001b[0;34m\u001b[0m\u001b[0m\n\u001b[1;32m   2899\u001b[0m         \u001b[0;32mif\u001b[0m \u001b[0mtolerance\u001b[0m \u001b[0;32mis\u001b[0m \u001b[0;32mnot\u001b[0m \u001b[0;32mNone\u001b[0m\u001b[0;34m:\u001b[0m\u001b[0;34m\u001b[0m\u001b[0;34m\u001b[0m\u001b[0m\n",
            "\u001b[0;31mKeyError\u001b[0m: 'beam_abs_summary'"
          ]
        }
      ]
    },
    {
      "cell_type": "code",
      "metadata": {
        "id": "La2trJ5x_I2B"
      },
      "source": [
        ""
      ],
      "execution_count": null,
      "outputs": []
    }
  ]
}